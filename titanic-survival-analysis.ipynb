{
 "cells": [
  {
   "cell_type": "markdown",
   "id": "26a8c312",
   "metadata": {
    "papermill": {
     "duration": 0.051543,
     "end_time": "2022-01-20T19:33:54.017399",
     "exception": false,
     "start_time": "2022-01-20T19:33:53.965856",
     "status": "completed"
    },
    "tags": []
   },
   "source": [
    "<h2> Importing the required Libraries </h2>"
   ]
  },
  {
   "cell_type": "code",
   "execution_count": 1,
   "id": "c3adccea",
   "metadata": {
    "execution": {
     "iopub.execute_input": "2022-01-20T19:33:54.120143Z",
     "iopub.status.busy": "2022-01-20T19:33:54.118951Z",
     "iopub.status.idle": "2022-01-20T19:33:55.660407Z",
     "shell.execute_reply": "2022-01-20T19:33:55.659585Z",
     "shell.execute_reply.started": "2022-01-20T18:39:21.912111Z"
    },
    "papermill": {
     "duration": 1.593861,
     "end_time": "2022-01-20T19:33:55.660592",
     "exception": false,
     "start_time": "2022-01-20T19:33:54.066731",
     "status": "completed"
    },
    "tags": []
   },
   "outputs": [],
   "source": [
    "import numpy as np\n",
    "import matplotlib.pyplot as plt\n",
    "import seaborn as sns\n",
    "import pandas as pd\n",
    "from sklearn.model_selection import train_test_split\n",
    "from sklearn.ensemble import RandomForestClassifier\n",
    "from sklearn.linear_model import LogisticRegression\n",
    "from sklearn.neighbors import KNeighborsClassifier\n",
    "from sklearn import tree,svm\n",
    "from sklearn.metrics import accuracy_score"
   ]
  },
  {
   "cell_type": "markdown",
   "id": "cfff7dd1",
   "metadata": {
    "papermill": {
     "duration": 0.047844,
     "end_time": "2022-01-20T19:33:55.760449",
     "exception": false,
     "start_time": "2022-01-20T19:33:55.712605",
     "status": "completed"
    },
    "tags": []
   },
   "source": [
    "<h2> Reading the Training Data using Pandas </h2>"
   ]
  },
  {
   "cell_type": "code",
   "execution_count": 2,
   "id": "1edf590a",
   "metadata": {
    "execution": {
     "iopub.execute_input": "2022-01-20T19:33:55.865011Z",
     "iopub.status.busy": "2022-01-20T19:33:55.863997Z",
     "iopub.status.idle": "2022-01-20T19:33:55.920656Z",
     "shell.execute_reply": "2022-01-20T19:33:55.921167Z",
     "shell.execute_reply.started": "2022-01-20T17:56:51.495231Z"
    },
    "papermill": {
     "duration": 0.109985,
     "end_time": "2022-01-20T19:33:55.921356",
     "exception": false,
     "start_time": "2022-01-20T19:33:55.811371",
     "status": "completed"
    },
    "tags": []
   },
   "outputs": [
    {
     "data": {
      "text/html": [
       "<div>\n",
       "<style scoped>\n",
       "    .dataframe tbody tr th:only-of-type {\n",
       "        vertical-align: middle;\n",
       "    }\n",
       "\n",
       "    .dataframe tbody tr th {\n",
       "        vertical-align: top;\n",
       "    }\n",
       "\n",
       "    .dataframe thead th {\n",
       "        text-align: right;\n",
       "    }\n",
       "</style>\n",
       "<table border=\"1\" class=\"dataframe\">\n",
       "  <thead>\n",
       "    <tr style=\"text-align: right;\">\n",
       "      <th></th>\n",
       "      <th>PassengerId</th>\n",
       "      <th>Survived</th>\n",
       "      <th>Pclass</th>\n",
       "      <th>Name</th>\n",
       "      <th>Sex</th>\n",
       "      <th>Age</th>\n",
       "      <th>SibSp</th>\n",
       "      <th>Parch</th>\n",
       "      <th>Ticket</th>\n",
       "      <th>Fare</th>\n",
       "      <th>Cabin</th>\n",
       "      <th>Embarked</th>\n",
       "    </tr>\n",
       "  </thead>\n",
       "  <tbody>\n",
       "    <tr>\n",
       "      <th>0</th>\n",
       "      <td>1</td>\n",
       "      <td>0</td>\n",
       "      <td>3</td>\n",
       "      <td>Braund, Mr. Owen Harris</td>\n",
       "      <td>male</td>\n",
       "      <td>22.0</td>\n",
       "      <td>1</td>\n",
       "      <td>0</td>\n",
       "      <td>A/5 21171</td>\n",
       "      <td>7.2500</td>\n",
       "      <td>NaN</td>\n",
       "      <td>S</td>\n",
       "    </tr>\n",
       "    <tr>\n",
       "      <th>1</th>\n",
       "      <td>2</td>\n",
       "      <td>1</td>\n",
       "      <td>1</td>\n",
       "      <td>Cumings, Mrs. John Bradley (Florence Briggs Th...</td>\n",
       "      <td>female</td>\n",
       "      <td>38.0</td>\n",
       "      <td>1</td>\n",
       "      <td>0</td>\n",
       "      <td>PC 17599</td>\n",
       "      <td>71.2833</td>\n",
       "      <td>C85</td>\n",
       "      <td>C</td>\n",
       "    </tr>\n",
       "    <tr>\n",
       "      <th>2</th>\n",
       "      <td>3</td>\n",
       "      <td>1</td>\n",
       "      <td>3</td>\n",
       "      <td>Heikkinen, Miss. Laina</td>\n",
       "      <td>female</td>\n",
       "      <td>26.0</td>\n",
       "      <td>0</td>\n",
       "      <td>0</td>\n",
       "      <td>STON/O2. 3101282</td>\n",
       "      <td>7.9250</td>\n",
       "      <td>NaN</td>\n",
       "      <td>S</td>\n",
       "    </tr>\n",
       "    <tr>\n",
       "      <th>3</th>\n",
       "      <td>4</td>\n",
       "      <td>1</td>\n",
       "      <td>1</td>\n",
       "      <td>Futrelle, Mrs. Jacques Heath (Lily May Peel)</td>\n",
       "      <td>female</td>\n",
       "      <td>35.0</td>\n",
       "      <td>1</td>\n",
       "      <td>0</td>\n",
       "      <td>113803</td>\n",
       "      <td>53.1000</td>\n",
       "      <td>C123</td>\n",
       "      <td>S</td>\n",
       "    </tr>\n",
       "    <tr>\n",
       "      <th>4</th>\n",
       "      <td>5</td>\n",
       "      <td>0</td>\n",
       "      <td>3</td>\n",
       "      <td>Allen, Mr. William Henry</td>\n",
       "      <td>male</td>\n",
       "      <td>35.0</td>\n",
       "      <td>0</td>\n",
       "      <td>0</td>\n",
       "      <td>373450</td>\n",
       "      <td>8.0500</td>\n",
       "      <td>NaN</td>\n",
       "      <td>S</td>\n",
       "    </tr>\n",
       "    <tr>\n",
       "      <th>...</th>\n",
       "      <td>...</td>\n",
       "      <td>...</td>\n",
       "      <td>...</td>\n",
       "      <td>...</td>\n",
       "      <td>...</td>\n",
       "      <td>...</td>\n",
       "      <td>...</td>\n",
       "      <td>...</td>\n",
       "      <td>...</td>\n",
       "      <td>...</td>\n",
       "      <td>...</td>\n",
       "      <td>...</td>\n",
       "    </tr>\n",
       "    <tr>\n",
       "      <th>886</th>\n",
       "      <td>887</td>\n",
       "      <td>0</td>\n",
       "      <td>2</td>\n",
       "      <td>Montvila, Rev. Juozas</td>\n",
       "      <td>male</td>\n",
       "      <td>27.0</td>\n",
       "      <td>0</td>\n",
       "      <td>0</td>\n",
       "      <td>211536</td>\n",
       "      <td>13.0000</td>\n",
       "      <td>NaN</td>\n",
       "      <td>S</td>\n",
       "    </tr>\n",
       "    <tr>\n",
       "      <th>887</th>\n",
       "      <td>888</td>\n",
       "      <td>1</td>\n",
       "      <td>1</td>\n",
       "      <td>Graham, Miss. Margaret Edith</td>\n",
       "      <td>female</td>\n",
       "      <td>19.0</td>\n",
       "      <td>0</td>\n",
       "      <td>0</td>\n",
       "      <td>112053</td>\n",
       "      <td>30.0000</td>\n",
       "      <td>B42</td>\n",
       "      <td>S</td>\n",
       "    </tr>\n",
       "    <tr>\n",
       "      <th>888</th>\n",
       "      <td>889</td>\n",
       "      <td>0</td>\n",
       "      <td>3</td>\n",
       "      <td>Johnston, Miss. Catherine Helen \"Carrie\"</td>\n",
       "      <td>female</td>\n",
       "      <td>NaN</td>\n",
       "      <td>1</td>\n",
       "      <td>2</td>\n",
       "      <td>W./C. 6607</td>\n",
       "      <td>23.4500</td>\n",
       "      <td>NaN</td>\n",
       "      <td>S</td>\n",
       "    </tr>\n",
       "    <tr>\n",
       "      <th>889</th>\n",
       "      <td>890</td>\n",
       "      <td>1</td>\n",
       "      <td>1</td>\n",
       "      <td>Behr, Mr. Karl Howell</td>\n",
       "      <td>male</td>\n",
       "      <td>26.0</td>\n",
       "      <td>0</td>\n",
       "      <td>0</td>\n",
       "      <td>111369</td>\n",
       "      <td>30.0000</td>\n",
       "      <td>C148</td>\n",
       "      <td>C</td>\n",
       "    </tr>\n",
       "    <tr>\n",
       "      <th>890</th>\n",
       "      <td>891</td>\n",
       "      <td>0</td>\n",
       "      <td>3</td>\n",
       "      <td>Dooley, Mr. Patrick</td>\n",
       "      <td>male</td>\n",
       "      <td>32.0</td>\n",
       "      <td>0</td>\n",
       "      <td>0</td>\n",
       "      <td>370376</td>\n",
       "      <td>7.7500</td>\n",
       "      <td>NaN</td>\n",
       "      <td>Q</td>\n",
       "    </tr>\n",
       "  </tbody>\n",
       "</table>\n",
       "<p>891 rows × 12 columns</p>\n",
       "</div>"
      ],
      "text/plain": [
       "     PassengerId  Survived  Pclass  \\\n",
       "0              1         0       3   \n",
       "1              2         1       1   \n",
       "2              3         1       3   \n",
       "3              4         1       1   \n",
       "4              5         0       3   \n",
       "..           ...       ...     ...   \n",
       "886          887         0       2   \n",
       "887          888         1       1   \n",
       "888          889         0       3   \n",
       "889          890         1       1   \n",
       "890          891         0       3   \n",
       "\n",
       "                                                  Name     Sex   Age  SibSp  \\\n",
       "0                              Braund, Mr. Owen Harris    male  22.0      1   \n",
       "1    Cumings, Mrs. John Bradley (Florence Briggs Th...  female  38.0      1   \n",
       "2                               Heikkinen, Miss. Laina  female  26.0      0   \n",
       "3         Futrelle, Mrs. Jacques Heath (Lily May Peel)  female  35.0      1   \n",
       "4                             Allen, Mr. William Henry    male  35.0      0   \n",
       "..                                                 ...     ...   ...    ...   \n",
       "886                              Montvila, Rev. Juozas    male  27.0      0   \n",
       "887                       Graham, Miss. Margaret Edith  female  19.0      0   \n",
       "888           Johnston, Miss. Catherine Helen \"Carrie\"  female   NaN      1   \n",
       "889                              Behr, Mr. Karl Howell    male  26.0      0   \n",
       "890                                Dooley, Mr. Patrick    male  32.0      0   \n",
       "\n",
       "     Parch            Ticket     Fare Cabin Embarked  \n",
       "0        0         A/5 21171   7.2500   NaN        S  \n",
       "1        0          PC 17599  71.2833   C85        C  \n",
       "2        0  STON/O2. 3101282   7.9250   NaN        S  \n",
       "3        0            113803  53.1000  C123        S  \n",
       "4        0            373450   8.0500   NaN        S  \n",
       "..     ...               ...      ...   ...      ...  \n",
       "886      0            211536  13.0000   NaN        S  \n",
       "887      0            112053  30.0000   B42        S  \n",
       "888      2        W./C. 6607  23.4500   NaN        S  \n",
       "889      0            111369  30.0000  C148        C  \n",
       "890      0            370376   7.7500   NaN        Q  \n",
       "\n",
       "[891 rows x 12 columns]"
      ]
     },
     "execution_count": 2,
     "metadata": {},
     "output_type": "execute_result"
    }
   ],
   "source": [
    "train_data = pd.read_csv('/kaggle/input/titanic/train.csv')\n",
    "train_data"
   ]
  },
  {
   "cell_type": "code",
   "execution_count": 3,
   "id": "158a7d73",
   "metadata": {
    "execution": {
     "iopub.execute_input": "2022-01-20T19:33:56.034121Z",
     "iopub.status.busy": "2022-01-20T19:33:56.033010Z",
     "iopub.status.idle": "2022-01-20T19:33:56.041330Z",
     "shell.execute_reply": "2022-01-20T19:33:56.040064Z",
     "shell.execute_reply.started": "2022-01-20T17:57:28.876127Z"
    },
    "papermill": {
     "duration": 0.06797,
     "end_time": "2022-01-20T19:33:56.041758",
     "exception": false,
     "start_time": "2022-01-20T19:33:55.973788",
     "status": "completed"
    },
    "tags": []
   },
   "outputs": [
    {
     "name": "stdout",
     "output_type": "stream",
     "text": [
      "The shape of our training set: 891 passengers and 12 features\n"
     ]
    }
   ],
   "source": [
    "print('The shape of our training set: %s passengers and %s features'%(train_data.shape[0],train_data.shape[1]))"
   ]
  },
  {
   "cell_type": "code",
   "execution_count": 4,
   "id": "d393bd20",
   "metadata": {
    "execution": {
     "iopub.execute_input": "2022-01-20T19:33:56.165669Z",
     "iopub.status.busy": "2022-01-20T19:33:56.162396Z",
     "iopub.status.idle": "2022-01-20T19:33:56.177764Z",
     "shell.execute_reply": "2022-01-20T19:33:56.176834Z",
     "shell.execute_reply.started": "2022-01-20T17:57:44.977429Z"
    },
    "papermill": {
     "duration": 0.084958,
     "end_time": "2022-01-20T19:33:56.177959",
     "exception": false,
     "start_time": "2022-01-20T19:33:56.093001",
     "status": "completed"
    },
    "tags": []
   },
   "outputs": [
    {
     "name": "stdout",
     "output_type": "stream",
     "text": [
      "<class 'pandas.core.frame.DataFrame'>\n",
      "RangeIndex: 891 entries, 0 to 890\n",
      "Data columns (total 12 columns):\n",
      " #   Column       Non-Null Count  Dtype  \n",
      "---  ------       --------------  -----  \n",
      " 0   PassengerId  891 non-null    int64  \n",
      " 1   Survived     891 non-null    int64  \n",
      " 2   Pclass       891 non-null    int64  \n",
      " 3   Name         891 non-null    object \n",
      " 4   Sex          891 non-null    object \n",
      " 5   Age          714 non-null    float64\n",
      " 6   SibSp        891 non-null    int64  \n",
      " 7   Parch        891 non-null    int64  \n",
      " 8   Ticket       891 non-null    object \n",
      " 9   Fare         891 non-null    float64\n",
      " 10  Cabin        204 non-null    object \n",
      " 11  Embarked     889 non-null    object \n",
      "dtypes: float64(2), int64(5), object(5)\n",
      "memory usage: 83.7+ KB\n"
     ]
    }
   ],
   "source": [
    "train_data.info()"
   ]
  },
  {
   "cell_type": "markdown",
   "id": "68e8de02",
   "metadata": {
    "papermill": {
     "duration": 0.050713,
     "end_time": "2022-01-20T19:33:56.280166",
     "exception": false,
     "start_time": "2022-01-20T19:33:56.229453",
     "status": "completed"
    },
    "tags": []
   },
   "source": [
    "<h2> Checking for Null values </h2>"
   ]
  },
  {
   "cell_type": "code",
   "execution_count": 5,
   "id": "eabe7b5d",
   "metadata": {
    "execution": {
     "iopub.execute_input": "2022-01-20T19:33:56.386481Z",
     "iopub.status.busy": "2022-01-20T19:33:56.385536Z",
     "iopub.status.idle": "2022-01-20T19:33:56.393698Z",
     "shell.execute_reply": "2022-01-20T19:33:56.394331Z",
     "shell.execute_reply.started": "2022-01-20T17:58:33.517435Z"
    },
    "papermill": {
     "duration": 0.06303,
     "end_time": "2022-01-20T19:33:56.394530",
     "exception": false,
     "start_time": "2022-01-20T19:33:56.331500",
     "status": "completed"
    },
    "tags": []
   },
   "outputs": [
    {
     "data": {
      "text/plain": [
       "PassengerId      0\n",
       "Survived         0\n",
       "Pclass           0\n",
       "Name             0\n",
       "Sex              0\n",
       "Age            177\n",
       "SibSp            0\n",
       "Parch            0\n",
       "Ticket           0\n",
       "Fare             0\n",
       "Cabin          687\n",
       "Embarked         2\n",
       "dtype: int64"
      ]
     },
     "execution_count": 5,
     "metadata": {},
     "output_type": "execute_result"
    }
   ],
   "source": [
    "train_data.isnull().sum()"
   ]
  },
  {
   "cell_type": "markdown",
   "id": "7de6c02e",
   "metadata": {
    "papermill": {
     "duration": 0.049738,
     "end_time": "2022-01-20T19:33:56.495165",
     "exception": false,
     "start_time": "2022-01-20T19:33:56.445427",
     "status": "completed"
    },
    "tags": []
   },
   "source": [
    "<h4> So, there are 177 null values in 'Age' Column, 687 null values in 'Cabin' Column and 2 null values in 'Embarked' Column </h4>"
   ]
  },
  {
   "cell_type": "markdown",
   "id": "24c236a2",
   "metadata": {
    "papermill": {
     "duration": 0.050196,
     "end_time": "2022-01-20T19:33:56.596199",
     "exception": false,
     "start_time": "2022-01-20T19:33:56.546003",
     "status": "completed"
    },
    "tags": []
   },
   "source": [
    "<h2>  Plotting a heat map to see the correlation between the parameters and the target variable (Survived) </h2>"
   ]
  },
  {
   "cell_type": "code",
   "execution_count": 6,
   "id": "01b63add",
   "metadata": {
    "execution": {
     "iopub.execute_input": "2022-01-20T19:33:56.700609Z",
     "iopub.status.busy": "2022-01-20T19:33:56.699918Z",
     "iopub.status.idle": "2022-01-20T19:33:57.085948Z",
     "shell.execute_reply": "2022-01-20T19:33:57.085257Z",
     "shell.execute_reply.started": "2022-01-20T18:06:17.976107Z"
    },
    "papermill": {
     "duration": 0.439753,
     "end_time": "2022-01-20T19:33:57.086104",
     "exception": false,
     "start_time": "2022-01-20T19:33:56.646351",
     "status": "completed"
    },
    "tags": []
   },
   "outputs": [
    {
     "data": {
      "image/png": "[encoded data removed]",
      "text/plain": [
       "<Figure size 432x288 with 2 Axes>"
      ]
     },
     "metadata": {
      "needs_background": "light"
     },
     "output_type": "display_data"
    }
   ],
   "source": [
    "sns.heatmap(train_data[[\"Survived\", \"SibSp\", \"Parch\", \"Age\", \"Fare\"]].corr(), annot = True)\n",
    "sns.set(rc={'figure.figsize':(12,10)})"
   ]
  },
  {
   "cell_type": "markdown",
   "id": "25bee851",
   "metadata": {
    "papermill": {
     "duration": 0.051597,
     "end_time": "2022-01-20T19:33:57.191136",
     "exception": false,
     "start_time": "2022-01-20T19:33:57.139539",
     "status": "completed"
    },
    "tags": []
   },
   "source": [
    "<h4> From the heatmap we can say that those who have paid higher fares have a better chance of Survival </h4>"
   ]
  },
  {
   "cell_type": "markdown",
   "id": "719a3aef",
   "metadata": {
    "papermill": {
     "duration": 0.050374,
     "end_time": "2022-01-20T19:33:57.294173",
     "exception": false,
     "start_time": "2022-01-20T19:33:57.243799",
     "status": "completed"
    },
    "tags": []
   },
   "source": [
    "<h2> Plotting Bar Graph to visualize the Surviving Probability w.r.t SibSp (Siblings/Spouses)</h2>"
   ]
  },
  {
   "cell_type": "code",
   "execution_count": 7,
   "id": "0a4d3766",
   "metadata": {
    "execution": {
     "iopub.execute_input": "2022-01-20T19:33:57.404767Z",
     "iopub.status.busy": "2022-01-20T19:33:57.402928Z",
     "iopub.status.idle": "2022-01-20T19:33:58.045262Z",
     "shell.execute_reply": "2022-01-20T19:33:58.044724Z",
     "shell.execute_reply.started": "2022-01-20T18:05:59.375874Z"
    },
    "papermill": {
     "duration": 0.700113,
     "end_time": "2022-01-20T19:33:58.045422",
     "exception": false,
     "start_time": "2022-01-20T19:33:57.345309",
     "status": "completed"
    },
    "tags": []
   },
   "outputs": [
    {
     "data": {
      "text/plain": [
       "<seaborn.axisgrid.FacetGrid at 0x7fd79380ebd0>"
      ]
     },
     "execution_count": 7,
     "metadata": {},
     "output_type": "execute_result"
    },
    {
     "data": {
      "image/png": "[encoded data removed]",
      "text/plain": [
       "<Figure size 576x576 with 1 Axes>"
      ]
     },
     "metadata": {},
     "output_type": "display_data"
    }
   ],
   "source": [
    "train_data['SibSp'].unique()\n",
    "sns.catplot(x = \"SibSp\", y = \"Survived\", data = train_data, kind=\"bar\", height = 8)"
   ]
  },
  {
   "cell_type": "markdown",
   "id": "677e7c45",
   "metadata": {
    "papermill": {
     "duration": 0.053043,
     "end_time": "2022-01-20T19:33:58.150883",
     "exception": false,
     "start_time": "2022-01-20T19:33:58.097840",
     "status": "completed"
    },
    "tags": []
   },
   "source": [
    "<h4> From the Bar Graph we can say that Passengers with 1 or 2 siblings have a better chance of survival than those have more than 2 siblings</h4>"
   ]
  },
  {
   "cell_type": "markdown",
   "id": "ac05faf8",
   "metadata": {
    "papermill": {
     "duration": 0.052276,
     "end_time": "2022-01-20T19:33:58.257104",
     "exception": false,
     "start_time": "2022-01-20T19:33:58.204828",
     "status": "completed"
    },
    "tags": []
   },
   "source": [
    "<h2> Plotting a graph so as to see the distribution of age w.r.t Target Variable(Survival) </h2>"
   ]
  },
  {
   "cell_type": "code",
   "execution_count": 8,
   "id": "6995274e",
   "metadata": {
    "execution": {
     "iopub.execute_input": "2022-01-20T19:33:58.364989Z",
     "iopub.status.busy": "2022-01-20T19:33:58.364346Z",
     "iopub.status.idle": "2022-01-20T19:33:59.210215Z",
     "shell.execute_reply": "2022-01-20T19:33:59.210822Z",
     "shell.execute_reply.started": "2022-01-20T18:11:02.402324Z"
    },
    "papermill": {
     "duration": 0.901835,
     "end_time": "2022-01-20T19:33:59.211007",
     "exception": false,
     "start_time": "2022-01-20T19:33:58.309172",
     "status": "completed"
    },
    "tags": []
   },
   "outputs": [
    {
     "name": "stderr",
     "output_type": "stream",
     "text": [
      "/opt/conda/lib/python3.7/site-packages/seaborn/distributions.py:2619: FutureWarning: `distplot` is a deprecated function and will be removed in a future version. Please adapt your code to use either `displot` (a figure-level function with similar flexibility) or `histplot` (an axes-level function for histograms).\n",
      "  warnings.warn(msg, FutureWarning)\n",
      "/opt/conda/lib/python3.7/site-packages/seaborn/distributions.py:2619: FutureWarning: `distplot` is a deprecated function and will be removed in a future version. Please adapt your code to use either `displot` (a figure-level function with similar flexibility) or `histplot` (an axes-level function for histograms).\n",
      "  warnings.warn(msg, FutureWarning)\n"
     ]
    },
    {
     "data": {
      "text/plain": [
       "<seaborn.axisgrid.FacetGrid at 0x7fd7936b7250>"
      ]
     },
     "execution_count": 8,
     "metadata": {},
     "output_type": "execute_result"
    },
    {
     "data": {
      "image/png": "[encoded data removed]",
      "text/plain": [
       "<Figure size 1008x504 with 2 Axes>"
      ]
     },
     "metadata": {},
     "output_type": "display_data"
    }
   ],
   "source": [
    "sns.FacetGrid(train_data, col=\"Survived\", height = 7).map(sns.distplot, \"Age\").set_ylabels(\"Survival Probability\")"
   ]
  },
  {
   "cell_type": "markdown",
   "id": "7e795ac1",
   "metadata": {
    "papermill": {
     "duration": 0.055405,
     "end_time": "2022-01-20T19:33:59.323148",
     "exception": false,
     "start_time": "2022-01-20T19:33:59.267743",
     "status": "completed"
    },
    "tags": []
   },
   "source": [
    "<h4> From the distribution plot we can say that people with more age have a lesser chance of survival than people with less age </h4>"
   ]
  },
  {
   "cell_type": "markdown",
   "id": "6b8be608",
   "metadata": {
    "papermill": {
     "duration": 0.054759,
     "end_time": "2022-01-20T19:33:59.432841",
     "exception": false,
     "start_time": "2022-01-20T19:33:59.378082",
     "status": "completed"
    },
    "tags": []
   },
   "source": [
    "<h2> Using Barplot to visulalize the survival rate w.r.t gender of survivor </h2>"
   ]
  },
  {
   "cell_type": "code",
   "execution_count": 9,
   "id": "636c972e",
   "metadata": {
    "execution": {
     "iopub.execute_input": "2022-01-20T19:33:59.545175Z",
     "iopub.status.busy": "2022-01-20T19:33:59.544410Z",
     "iopub.status.idle": "2022-01-20T19:33:59.848220Z",
     "shell.execute_reply": "2022-01-20T19:33:59.847626Z",
     "shell.execute_reply.started": "2022-01-20T18:14:02.756548Z"
    },
    "papermill": {
     "duration": 0.360996,
     "end_time": "2022-01-20T19:33:59.848390",
     "exception": false,
     "start_time": "2022-01-20T19:33:59.487394",
     "status": "completed"
    },
    "tags": []
   },
   "outputs": [
    {
     "data": {
      "text/plain": [
       "<AxesSubplot:xlabel='Sex', ylabel='Survived'>"
      ]
     },
     "execution_count": 9,
     "metadata": {},
     "output_type": "execute_result"
    },
    {
     "data": {
      "image/png": "[encoded data removed]",
      "text/plain": [
       "<Figure size 864x720 with 1 Axes>"
      ]
     },
     "metadata": {},
     "output_type": "display_data"
    }
   ],
   "source": [
    "sns.barplot(x=\"Sex\", y=\"Survived\", data=train_data)"
   ]
  },
  {
   "cell_type": "markdown",
   "id": "03e8447d",
   "metadata": {
    "papermill": {
     "duration": 0.056331,
     "end_time": "2022-01-20T19:33:59.961952",
     "exception": false,
     "start_time": "2022-01-20T19:33:59.905621",
     "status": "completed"
    },
    "tags": []
   },
   "source": [
    "<h4> From above it is crystal clear that \"There were more Female survivors than compared to Male survivors </h4>"
   ]
  },
  {
   "cell_type": "markdown",
   "id": "d4b27c64",
   "metadata": {
    "papermill": {
     "duration": 0.056097,
     "end_time": "2022-01-20T19:34:00.074445",
     "exception": false,
     "start_time": "2022-01-20T19:34:00.018348",
     "status": "completed"
    },
    "tags": []
   },
   "source": [
    "<h2> Analyzing the Pclass column to get the survival chance analysis using bar plot </h2>"
   ]
  },
  {
   "cell_type": "code",
   "execution_count": 10,
   "id": "14da085d",
   "metadata": {
    "execution": {
     "iopub.execute_input": "2022-01-20T19:34:00.190909Z",
     "iopub.status.busy": "2022-01-20T19:34:00.189857Z",
     "iopub.status.idle": "2022-01-20T19:34:00.645242Z",
     "shell.execute_reply": "2022-01-20T19:34:00.645867Z",
     "shell.execute_reply.started": "2022-01-20T18:16:13.667109Z"
    },
    "papermill": {
     "duration": 0.51542,
     "end_time": "2022-01-20T19:34:00.646170",
     "exception": false,
     "start_time": "2022-01-20T19:34:00.130750",
     "status": "completed"
    },
    "tags": []
   },
   "outputs": [
    {
     "data": {
      "text/plain": [
       "<seaborn.axisgrid.FacetGrid at 0x7fd79361c710>"
      ]
     },
     "execution_count": 10,
     "metadata": {},
     "output_type": "execute_result"
    },
    {
     "data": {
      "image/png": "[encoded data removed]",
      "text/plain": [
       "<Figure size 432x432 with 1 Axes>"
      ]
     },
     "metadata": {},
     "output_type": "display_data"
    }
   ],
   "source": [
    "sns.catplot(x = \"Pclass\", y=\"Survived\", data = train_data, kind=\"bar\", height = 6)"
   ]
  },
  {
   "cell_type": "markdown",
   "id": "25ccbb02",
   "metadata": {
    "papermill": {
     "duration": 0.058778,
     "end_time": "2022-01-20T19:34:00.764773",
     "exception": false,
     "start_time": "2022-01-20T19:34:00.705995",
     "status": "completed"
    },
    "tags": []
   },
   "source": [
    "<h3>Chances of survival :-</h3>\n",
    "<h3>1st Class > 2nd Class > 3rd Class</h3>"
   ]
  },
  {
   "cell_type": "markdown",
   "id": "c83f4eff",
   "metadata": {
    "papermill": {
     "duration": 0.056647,
     "end_time": "2022-01-20T19:34:00.878734",
     "exception": false,
     "start_time": "2022-01-20T19:34:00.822087",
     "status": "completed"
    },
    "tags": []
   },
   "source": [
    "<h2> Embarked column analysis and correction of null values </h2>"
   ]
  },
  {
   "cell_type": "code",
   "execution_count": 11,
   "id": "2214cab2",
   "metadata": {
    "execution": {
     "iopub.execute_input": "2022-01-20T19:34:00.997067Z",
     "iopub.status.busy": "2022-01-20T19:34:00.996060Z",
     "iopub.status.idle": "2022-01-20T19:34:01.004595Z",
     "shell.execute_reply": "2022-01-20T19:34:01.005060Z",
     "shell.execute_reply.started": "2022-01-20T18:29:09.457853Z"
    },
    "papermill": {
     "duration": 0.06917,
     "end_time": "2022-01-20T19:34:01.005240",
     "exception": false,
     "start_time": "2022-01-20T19:34:00.936070",
     "status": "completed"
    },
    "tags": []
   },
   "outputs": [
    {
     "data": {
      "text/plain": [
       "(S    644\n",
       " C    168\n",
       " Q     77\n",
       " Name: Embarked, dtype: int64,\n",
       " 2)"
      ]
     },
     "execution_count": 11,
     "metadata": {},
     "output_type": "execute_result"
    }
   ],
   "source": [
    "train_data['Embarked'].value_counts(), train_data['Embarked'].isnull().sum()"
   ]
  },
  {
   "cell_type": "markdown",
   "id": "4ec79639",
   "metadata": {
    "papermill": {
     "duration": 0.056907,
     "end_time": "2022-01-20T19:34:01.120113",
     "exception": false,
     "start_time": "2022-01-20T19:34:01.063206",
     "status": "completed"
    },
    "tags": []
   },
   "source": [
    "<h3> So we have 2 null values in 'Embarked' Column of the data set </h3>"
   ]
  },
  {
   "cell_type": "markdown",
   "id": "c7352a94",
   "metadata": {
    "papermill": {
     "duration": 0.06085,
     "end_time": "2022-01-20T19:34:01.237801",
     "exception": false,
     "start_time": "2022-01-20T19:34:01.176951",
     "status": "completed"
    },
    "tags": []
   },
   "source": [
    "<h4> Replacing the null values with the most frequent value 'S' </h4>"
   ]
  },
  {
   "cell_type": "code",
   "execution_count": 12,
   "id": "0125bf27",
   "metadata": {
    "execution": {
     "iopub.execute_input": "2022-01-20T19:34:01.366534Z",
     "iopub.status.busy": "2022-01-20T19:34:01.365564Z",
     "iopub.status.idle": "2022-01-20T19:34:01.369305Z",
     "shell.execute_reply": "2022-01-20T19:34:01.369818Z",
     "shell.execute_reply.started": "2022-01-20T18:31:14.258042Z"
    },
    "papermill": {
     "duration": 0.073448,
     "end_time": "2022-01-20T19:34:01.369992",
     "exception": false,
     "start_time": "2022-01-20T19:34:01.296544",
     "status": "completed"
    },
    "tags": []
   },
   "outputs": [
    {
     "data": {
      "text/plain": [
       "PassengerId      0\n",
       "Survived         0\n",
       "Pclass           0\n",
       "Name             0\n",
       "Sex              0\n",
       "Age            177\n",
       "SibSp            0\n",
       "Parch            0\n",
       "Ticket           0\n",
       "Fare             0\n",
       "Cabin          687\n",
       "Embarked         0\n",
       "dtype: int64"
      ]
     },
     "execution_count": 12,
     "metadata": {},
     "output_type": "execute_result"
    }
   ],
   "source": [
    "train_data[\"Embarked\"] = train_data[\"Embarked\"].fillna('S')\n",
    "train_data.isnull().sum()"
   ]
  },
  {
   "cell_type": "code",
   "execution_count": 13,
   "id": "e3da55c0",
   "metadata": {
    "execution": {
     "iopub.execute_input": "2022-01-20T19:34:01.496213Z",
     "iopub.status.busy": "2022-01-20T19:34:01.495330Z",
     "iopub.status.idle": "2022-01-20T19:34:02.092213Z",
     "shell.execute_reply": "2022-01-20T19:34:02.091491Z",
     "shell.execute_reply.started": "2022-01-20T18:31:28.996833Z"
    },
    "papermill": {
     "duration": 0.66262,
     "end_time": "2022-01-20T19:34:02.092389",
     "exception": false,
     "start_time": "2022-01-20T19:34:01.429769",
     "status": "completed"
    },
    "tags": []
   },
   "outputs": [
    {
     "data": {
      "text/plain": [
       "<seaborn.axisgrid.FacetGrid at 0x7fd79b9a2ad0>"
      ]
     },
     "execution_count": 13,
     "metadata": {},
     "output_type": "execute_result"
    },
    {
     "data": {
      "image/png": "[encoded data removed]",
      "text/plain": [
       "<Figure size 360x360 with 1 Axes>"
      ]
     },
     "metadata": {},
     "output_type": "display_data"
    }
   ],
   "source": [
    "sns.catplot(x=\"Embarked\", y=\"Survived\", data=train_data, height = 5, kind=\"bar\")"
   ]
  },
  {
   "cell_type": "code",
   "execution_count": 14,
   "id": "5717ceff",
   "metadata": {
    "execution": {
     "iopub.execute_input": "2022-01-20T19:34:02.219344Z",
     "iopub.status.busy": "2022-01-20T19:34:02.218226Z",
     "iopub.status.idle": "2022-01-20T19:34:03.014945Z",
     "shell.execute_reply": "2022-01-20T19:34:03.014351Z",
     "shell.execute_reply.started": "2022-01-20T18:31:53.977390Z"
    },
    "papermill": {
     "duration": 0.863032,
     "end_time": "2022-01-20T19:34:03.015111",
     "exception": false,
     "start_time": "2022-01-20T19:34:02.152079",
     "status": "completed"
    },
    "tags": []
   },
   "outputs": [
    {
     "data": {
      "text/plain": [
       "<seaborn.axisgrid.FacetGrid at 0x7fd7934803d0>"
      ]
     },
     "execution_count": 14,
     "metadata": {},
     "output_type": "execute_result"
    },
    {
     "data": {
      "image/png": "[encoded data removed]",
      "text/plain": [
       "<Figure size 1512x504 with 3 Axes>"
      ]
     },
     "metadata": {},
     "output_type": "display_data"
    }
   ],
   "source": [
    "sns.catplot(x=\"Pclass\", col=\"Embarked\", data = train_data, kind=\"count\", height=7)"
   ]
  },
  {
   "cell_type": "markdown",
   "id": "29aa3f51",
   "metadata": {
    "papermill": {
     "duration": 0.06036,
     "end_time": "2022-01-20T19:34:03.135735",
     "exception": false,
     "start_time": "2022-01-20T19:34:03.075375",
     "status": "completed"
    },
    "tags": []
   },
   "source": [
    "<h2> Passengers embarked from C station had the most of the 1st Class booking and so the Survival chances of Passengers embarked from C Station is High </h2>"
   ]
  },
  {
   "cell_type": "markdown",
   "id": "42fa38e1",
   "metadata": {
    "papermill": {
     "duration": 0.061563,
     "end_time": "2022-01-20T19:34:03.257203",
     "exception": false,
     "start_time": "2022-01-20T19:34:03.195640",
     "status": "completed"
    },
    "tags": []
   },
   "source": [
    "<h2> Handling missing values / null values from the 'Age' Column and replacing them with random values within the range of the Average Age - Standard Age and Average Age + Standard Age </h2>"
   ]
  },
  {
   "cell_type": "code",
   "execution_count": 15,
   "id": "1da7c267",
   "metadata": {
    "execution": {
     "iopub.execute_input": "2022-01-20T19:34:03.382460Z",
     "iopub.status.busy": "2022-01-20T19:34:03.381789Z",
     "iopub.status.idle": "2022-01-20T19:34:03.388947Z",
     "shell.execute_reply": "2022-01-20T19:34:03.389523Z",
     "shell.execute_reply.started": "2022-01-20T18:36:24.598727Z"
    },
    "papermill": {
     "duration": 0.072494,
     "end_time": "2022-01-20T19:34:03.389706",
     "exception": false,
     "start_time": "2022-01-20T19:34:03.317212",
     "status": "completed"
    },
    "tags": []
   },
   "outputs": [
    {
     "data": {
      "text/plain": [
       "(29.69911764705882, 14.526497332334044)"
      ]
     },
     "execution_count": 15,
     "metadata": {},
     "output_type": "execute_result"
    }
   ],
   "source": [
    "mean_age = train_data[\"Age\"].mean()\n",
    "std_age = train_data[\"Age\"].std()\n",
    "mean_age, std_age"
   ]
  },
  {
   "cell_type": "code",
   "execution_count": 16,
   "id": "303a0607",
   "metadata": {
    "execution": {
     "iopub.execute_input": "2022-01-20T19:34:03.523146Z",
     "iopub.status.busy": "2022-01-20T19:34:03.516794Z",
     "iopub.status.idle": "2022-01-20T19:34:03.526263Z",
     "shell.execute_reply": "2022-01-20T19:34:03.525730Z",
     "shell.execute_reply.started": "2022-01-20T18:39:27.360763Z"
    },
    "papermill": {
     "duration": 0.072393,
     "end_time": "2022-01-20T19:34:03.526431",
     "exception": false,
     "start_time": "2022-01-20T19:34:03.454038",
     "status": "completed"
    },
    "tags": []
   },
   "outputs": [],
   "source": [
    "random_age = np.random.randint(mean_age-std_age, mean_age+std_age, size = 177)\n",
    "age_slice = train_data[\"Age\"].copy()\n",
    "age_slice[np.isnan(age_slice)] = random_age\n",
    "train_data[\"Age\"] = age_slice"
   ]
  },
  {
   "cell_type": "code",
   "execution_count": 17,
   "id": "5150f79a",
   "metadata": {
    "execution": {
     "iopub.execute_input": "2022-01-20T19:34:03.654527Z",
     "iopub.status.busy": "2022-01-20T19:34:03.653746Z",
     "iopub.status.idle": "2022-01-20T19:34:03.661059Z",
     "shell.execute_reply": "2022-01-20T19:34:03.660548Z",
     "shell.execute_reply.started": "2022-01-20T18:40:06.796899Z"
    },
    "papermill": {
     "duration": 0.073222,
     "end_time": "2022-01-20T19:34:03.661241",
     "exception": false,
     "start_time": "2022-01-20T19:34:03.588019",
     "status": "completed"
    },
    "tags": []
   },
   "outputs": [
    {
     "data": {
      "text/plain": [
       "PassengerId      0\n",
       "Survived         0\n",
       "Pclass           0\n",
       "Name             0\n",
       "Sex              0\n",
       "Age              0\n",
       "SibSp            0\n",
       "Parch            0\n",
       "Ticket           0\n",
       "Fare             0\n",
       "Cabin          687\n",
       "Embarked         0\n",
       "dtype: int64"
      ]
     },
     "execution_count": 17,
     "metadata": {},
     "output_type": "execute_result"
    }
   ],
   "source": [
    "train_data.isnull().sum()"
   ]
  },
  {
   "cell_type": "markdown",
   "id": "d7ac7c4a",
   "metadata": {
    "papermill": {
     "duration": 0.062336,
     "end_time": "2022-01-20T19:34:03.787684",
     "exception": false,
     "start_time": "2022-01-20T19:34:03.725348",
     "status": "completed"
    },
    "tags": []
   },
   "source": [
    "<h2> Dropping Un-necessary Columns from the Dataset </h2>"
   ]
  },
  {
   "cell_type": "code",
   "execution_count": 18,
   "id": "faba86e3",
   "metadata": {
    "execution": {
     "iopub.execute_input": "2022-01-20T19:34:03.927344Z",
     "iopub.status.busy": "2022-01-20T19:34:03.926276Z",
     "iopub.status.idle": "2022-01-20T19:34:03.931295Z",
     "shell.execute_reply": "2022-01-20T19:34:03.930641Z",
     "shell.execute_reply.started": "2022-01-20T18:41:35.097591Z"
    },
    "papermill": {
     "duration": 0.083121,
     "end_time": "2022-01-20T19:34:03.931437",
     "exception": false,
     "start_time": "2022-01-20T19:34:03.848316",
     "status": "completed"
    },
    "tags": []
   },
   "outputs": [
    {
     "data": {
      "text/html": [
       "<div>\n",
       "<style scoped>\n",
       "    .dataframe tbody tr th:only-of-type {\n",
       "        vertical-align: middle;\n",
       "    }\n",
       "\n",
       "    .dataframe tbody tr th {\n",
       "        vertical-align: top;\n",
       "    }\n",
       "\n",
       "    .dataframe thead th {\n",
       "        text-align: right;\n",
       "    }\n",
       "</style>\n",
       "<table border=\"1\" class=\"dataframe\">\n",
       "  <thead>\n",
       "    <tr style=\"text-align: right;\">\n",
       "      <th></th>\n",
       "      <th>Survived</th>\n",
       "      <th>Pclass</th>\n",
       "      <th>Sex</th>\n",
       "      <th>Age</th>\n",
       "      <th>SibSp</th>\n",
       "      <th>Parch</th>\n",
       "      <th>Fare</th>\n",
       "      <th>Embarked</th>\n",
       "    </tr>\n",
       "  </thead>\n",
       "  <tbody>\n",
       "    <tr>\n",
       "      <th>0</th>\n",
       "      <td>0</td>\n",
       "      <td>3</td>\n",
       "      <td>male</td>\n",
       "      <td>22.0</td>\n",
       "      <td>1</td>\n",
       "      <td>0</td>\n",
       "      <td>7.2500</td>\n",
       "      <td>S</td>\n",
       "    </tr>\n",
       "    <tr>\n",
       "      <th>1</th>\n",
       "      <td>1</td>\n",
       "      <td>1</td>\n",
       "      <td>female</td>\n",
       "      <td>38.0</td>\n",
       "      <td>1</td>\n",
       "      <td>0</td>\n",
       "      <td>71.2833</td>\n",
       "      <td>C</td>\n",
       "    </tr>\n",
       "    <tr>\n",
       "      <th>2</th>\n",
       "      <td>1</td>\n",
       "      <td>3</td>\n",
       "      <td>female</td>\n",
       "      <td>26.0</td>\n",
       "      <td>0</td>\n",
       "      <td>0</td>\n",
       "      <td>7.9250</td>\n",
       "      <td>S</td>\n",
       "    </tr>\n",
       "    <tr>\n",
       "      <th>3</th>\n",
       "      <td>1</td>\n",
       "      <td>1</td>\n",
       "      <td>female</td>\n",
       "      <td>35.0</td>\n",
       "      <td>1</td>\n",
       "      <td>0</td>\n",
       "      <td>53.1000</td>\n",
       "      <td>S</td>\n",
       "    </tr>\n",
       "    <tr>\n",
       "      <th>4</th>\n",
       "      <td>0</td>\n",
       "      <td>3</td>\n",
       "      <td>male</td>\n",
       "      <td>35.0</td>\n",
       "      <td>0</td>\n",
       "      <td>0</td>\n",
       "      <td>8.0500</td>\n",
       "      <td>S</td>\n",
       "    </tr>\n",
       "    <tr>\n",
       "      <th>5</th>\n",
       "      <td>0</td>\n",
       "      <td>3</td>\n",
       "      <td>male</td>\n",
       "      <td>22.0</td>\n",
       "      <td>0</td>\n",
       "      <td>0</td>\n",
       "      <td>8.4583</td>\n",
       "      <td>Q</td>\n",
       "    </tr>\n",
       "    <tr>\n",
       "      <th>6</th>\n",
       "      <td>0</td>\n",
       "      <td>1</td>\n",
       "      <td>male</td>\n",
       "      <td>54.0</td>\n",
       "      <td>0</td>\n",
       "      <td>0</td>\n",
       "      <td>51.8625</td>\n",
       "      <td>S</td>\n",
       "    </tr>\n",
       "    <tr>\n",
       "      <th>7</th>\n",
       "      <td>0</td>\n",
       "      <td>3</td>\n",
       "      <td>male</td>\n",
       "      <td>2.0</td>\n",
       "      <td>3</td>\n",
       "      <td>1</td>\n",
       "      <td>21.0750</td>\n",
       "      <td>S</td>\n",
       "    </tr>\n",
       "    <tr>\n",
       "      <th>8</th>\n",
       "      <td>1</td>\n",
       "      <td>3</td>\n",
       "      <td>female</td>\n",
       "      <td>27.0</td>\n",
       "      <td>0</td>\n",
       "      <td>2</td>\n",
       "      <td>11.1333</td>\n",
       "      <td>S</td>\n",
       "    </tr>\n",
       "    <tr>\n",
       "      <th>9</th>\n",
       "      <td>1</td>\n",
       "      <td>2</td>\n",
       "      <td>female</td>\n",
       "      <td>14.0</td>\n",
       "      <td>1</td>\n",
       "      <td>0</td>\n",
       "      <td>30.0708</td>\n",
       "      <td>C</td>\n",
       "    </tr>\n",
       "  </tbody>\n",
       "</table>\n",
       "</div>"
      ],
      "text/plain": [
       "   Survived  Pclass     Sex   Age  SibSp  Parch     Fare Embarked\n",
       "0         0       3    male  22.0      1      0   7.2500        S\n",
       "1         1       1  female  38.0      1      0  71.2833        C\n",
       "2         1       3  female  26.0      0      0   7.9250        S\n",
       "3         1       1  female  35.0      1      0  53.1000        S\n",
       "4         0       3    male  35.0      0      0   8.0500        S\n",
       "5         0       3    male  22.0      0      0   8.4583        Q\n",
       "6         0       1    male  54.0      0      0  51.8625        S\n",
       "7         0       3    male   2.0      3      1  21.0750        S\n",
       "8         1       3  female  27.0      0      2  11.1333        S\n",
       "9         1       2  female  14.0      1      0  30.0708        C"
      ]
     },
     "execution_count": 18,
     "metadata": {},
     "output_type": "execute_result"
    }
   ],
   "source": [
    "list_column_to_drop = [\"PassengerId\", \"Ticket\", \"Cabin\", \"Name\"]\n",
    "train_data.drop(list_column_to_drop, axis=1, inplace=True)\n",
    "train_data.head(10)"
   ]
  },
  {
   "cell_type": "markdown",
   "id": "982b71c7",
   "metadata": {
    "papermill": {
     "duration": 0.062607,
     "end_time": "2022-01-20T19:34:04.059647",
     "exception": false,
     "start_time": "2022-01-20T19:34:03.997040",
     "status": "completed"
    },
    "tags": []
   },
   "source": [
    "<h2> Converting Categorical Variables (Sex, Embarked) to Numeric </h2>"
   ]
  },
  {
   "cell_type": "code",
   "execution_count": 19,
   "id": "cd0e9c2a",
   "metadata": {
    "execution": {
     "iopub.execute_input": "2022-01-20T19:34:04.192723Z",
     "iopub.status.busy": "2022-01-20T19:34:04.191698Z",
     "iopub.status.idle": "2022-01-20T19:34:04.194593Z",
     "shell.execute_reply": "2022-01-20T19:34:04.193985Z",
     "shell.execute_reply.started": "2022-01-20T18:42:59.708473Z"
    },
    "papermill": {
     "duration": 0.072619,
     "end_time": "2022-01-20T19:34:04.194741",
     "exception": false,
     "start_time": "2022-01-20T19:34:04.122122",
     "status": "completed"
    },
    "tags": []
   },
   "outputs": [],
   "source": [
    "genders = {\"male\":0, \"female\":1}\n",
    "train_data[\"Sex\"] = train_data[\"Sex\"].map(genders)\n",
    "\n",
    "ports = {\"S\":0, \"C\":1, \"Q\":2}\n",
    "train_data[\"Embarked\"] = train_data[\"Embarked\"].map(ports)"
   ]
  },
  {
   "cell_type": "code",
   "execution_count": 20,
   "id": "c6400545",
   "metadata": {
    "execution": {
     "iopub.execute_input": "2022-01-20T19:34:04.332225Z",
     "iopub.status.busy": "2022-01-20T19:34:04.331230Z",
     "iopub.status.idle": "2022-01-20T19:34:04.335521Z",
     "shell.execute_reply": "2022-01-20T19:34:04.335982Z",
     "shell.execute_reply.started": "2022-01-20T18:43:08.316373Z"
    },
    "papermill": {
     "duration": 0.08012,
     "end_time": "2022-01-20T19:34:04.336173",
     "exception": false,
     "start_time": "2022-01-20T19:34:04.256053",
     "status": "completed"
    },
    "tags": []
   },
   "outputs": [
    {
     "data": {
      "text/html": [
       "<div>\n",
       "<style scoped>\n",
       "    .dataframe tbody tr th:only-of-type {\n",
       "        vertical-align: middle;\n",
       "    }\n",
       "\n",
       "    .dataframe tbody tr th {\n",
       "        vertical-align: top;\n",
       "    }\n",
       "\n",
       "    .dataframe thead th {\n",
       "        text-align: right;\n",
       "    }\n",
       "</style>\n",
       "<table border=\"1\" class=\"dataframe\">\n",
       "  <thead>\n",
       "    <tr style=\"text-align: right;\">\n",
       "      <th></th>\n",
       "      <th>Survived</th>\n",
       "      <th>Pclass</th>\n",
       "      <th>Sex</th>\n",
       "      <th>Age</th>\n",
       "      <th>SibSp</th>\n",
       "      <th>Parch</th>\n",
       "      <th>Fare</th>\n",
       "      <th>Embarked</th>\n",
       "    </tr>\n",
       "  </thead>\n",
       "  <tbody>\n",
       "    <tr>\n",
       "      <th>0</th>\n",
       "      <td>0</td>\n",
       "      <td>3</td>\n",
       "      <td>0</td>\n",
       "      <td>22.0</td>\n",
       "      <td>1</td>\n",
       "      <td>0</td>\n",
       "      <td>7.2500</td>\n",
       "      <td>0</td>\n",
       "    </tr>\n",
       "    <tr>\n",
       "      <th>1</th>\n",
       "      <td>1</td>\n",
       "      <td>1</td>\n",
       "      <td>1</td>\n",
       "      <td>38.0</td>\n",
       "      <td>1</td>\n",
       "      <td>0</td>\n",
       "      <td>71.2833</td>\n",
       "      <td>1</td>\n",
       "    </tr>\n",
       "    <tr>\n",
       "      <th>2</th>\n",
       "      <td>1</td>\n",
       "      <td>3</td>\n",
       "      <td>1</td>\n",
       "      <td>26.0</td>\n",
       "      <td>0</td>\n",
       "      <td>0</td>\n",
       "      <td>7.9250</td>\n",
       "      <td>0</td>\n",
       "    </tr>\n",
       "    <tr>\n",
       "      <th>3</th>\n",
       "      <td>1</td>\n",
       "      <td>1</td>\n",
       "      <td>1</td>\n",
       "      <td>35.0</td>\n",
       "      <td>1</td>\n",
       "      <td>0</td>\n",
       "      <td>53.1000</td>\n",
       "      <td>0</td>\n",
       "    </tr>\n",
       "    <tr>\n",
       "      <th>4</th>\n",
       "      <td>0</td>\n",
       "      <td>3</td>\n",
       "      <td>0</td>\n",
       "      <td>35.0</td>\n",
       "      <td>0</td>\n",
       "      <td>0</td>\n",
       "      <td>8.0500</td>\n",
       "      <td>0</td>\n",
       "    </tr>\n",
       "  </tbody>\n",
       "</table>\n",
       "</div>"
      ],
      "text/plain": [
       "   Survived  Pclass  Sex   Age  SibSp  Parch     Fare  Embarked\n",
       "0         0       3    0  22.0      1      0   7.2500         0\n",
       "1         1       1    1  38.0      1      0  71.2833         1\n",
       "2         1       3    1  26.0      0      0   7.9250         0\n",
       "3         1       1    1  35.0      1      0  53.1000         0\n",
       "4         0       3    0  35.0      0      0   8.0500         0"
      ]
     },
     "execution_count": 20,
     "metadata": {},
     "output_type": "execute_result"
    }
   ],
   "source": [
    "train_data.head()"
   ]
  },
  {
   "cell_type": "markdown",
   "id": "4607ae84",
   "metadata": {
    "papermill": {
     "duration": 0.061525,
     "end_time": "2022-01-20T19:34:04.461410",
     "exception": false,
     "start_time": "2022-01-20T19:34:04.399885",
     "status": "completed"
    },
    "tags": []
   },
   "source": [
    "<h1> Building Machine Learning Model </h1>"
   ]
  },
  {
   "cell_type": "code",
   "execution_count": 21,
   "id": "39b28282",
   "metadata": {
    "execution": {
     "iopub.execute_input": "2022-01-20T19:34:04.596218Z",
     "iopub.status.busy": "2022-01-20T19:34:04.595522Z",
     "iopub.status.idle": "2022-01-20T19:34:04.598201Z",
     "shell.execute_reply": "2022-01-20T19:34:04.597537Z",
     "shell.execute_reply.started": "2022-01-20T18:45:13.177247Z"
    },
    "papermill": {
     "duration": 0.072831,
     "end_time": "2022-01-20T19:34:04.598361",
     "exception": false,
     "start_time": "2022-01-20T19:34:04.525530",
     "status": "completed"
    },
    "tags": []
   },
   "outputs": [],
   "source": [
    "df_train_x = train_data[['Pclass', 'Sex', 'Age', 'SibSp', 'Parch', 'Fare', 'Embarked']]\n",
    "df_train_y = train_data[['Survived']] #Target Variable "
   ]
  },
  {
   "cell_type": "markdown",
   "id": "fafa6f63",
   "metadata": {
    "papermill": {
     "duration": 0.062168,
     "end_time": "2022-01-20T19:34:04.723317",
     "exception": false,
     "start_time": "2022-01-20T19:34:04.661149",
     "status": "completed"
    },
    "tags": []
   },
   "source": [
    "<h2> Train, Test and Splitting </h2>"
   ]
  },
  {
   "cell_type": "code",
   "execution_count": 22,
   "id": "aa891e3b",
   "metadata": {
    "execution": {
     "iopub.execute_input": "2022-01-20T19:34:04.856864Z",
     "iopub.status.busy": "2022-01-20T19:34:04.856137Z",
     "iopub.status.idle": "2022-01-20T19:34:04.859523Z",
     "shell.execute_reply": "2022-01-20T19:34:04.859980Z",
     "shell.execute_reply.started": "2022-01-20T19:15:00.717056Z"
    },
    "papermill": {
     "duration": 0.07371,
     "end_time": "2022-01-20T19:34:04.860160",
     "exception": false,
     "start_time": "2022-01-20T19:34:04.786450",
     "status": "completed"
    },
    "tags": []
   },
   "outputs": [],
   "source": [
    "x_train, x_test, y_train, y_test = train_test_split(df_train_x, df_train_y, test_size=0.20, random_state=18)"
   ]
  },
  {
   "cell_type": "markdown",
   "id": "2382e8df",
   "metadata": {
    "papermill": {
     "duration": 0.067462,
     "end_time": "2022-01-20T19:34:04.990728",
     "exception": false,
     "start_time": "2022-01-20T19:34:04.923266",
     "status": "completed"
    },
    "tags": []
   },
   "source": [
    "<h2> Fitting the machine learning model on 4 different classification algorithms namely Random Forest Classifier, K-Neighbor Classifier, Decision Tree Classifier, Support Vector Machine and Logistic Regression and comparing them </h2>"
   ]
  },
  {
   "cell_type": "markdown",
   "id": "01365f06",
   "metadata": {
    "papermill": {
     "duration": 0.062713,
     "end_time": "2022-01-20T19:34:05.116977",
     "exception": false,
     "start_time": "2022-01-20T19:34:05.054264",
     "status": "completed"
    },
    "tags": []
   },
   "source": [
    "<h3> 1. Random Forest Classifier </h3>"
   ]
  },
  {
   "cell_type": "code",
   "execution_count": 23,
   "id": "93d48576",
   "metadata": {
    "execution": {
     "iopub.execute_input": "2022-01-20T19:34:05.243986Z",
     "iopub.status.busy": "2022-01-20T19:34:05.243259Z",
     "iopub.status.idle": "2022-01-20T19:34:05.496906Z",
     "shell.execute_reply": "2022-01-20T19:34:05.496228Z",
     "shell.execute_reply.started": "2022-01-20T19:18:31.001054Z"
    },
    "papermill": {
     "duration": 0.318387,
     "end_time": "2022-01-20T19:34:05.497046",
     "exception": false,
     "start_time": "2022-01-20T19:34:05.178659",
     "status": "completed"
    },
    "tags": []
   },
   "outputs": [
    {
     "name": "stderr",
     "output_type": "stream",
     "text": [
      "/opt/conda/lib/python3.7/site-packages/ipykernel_launcher.py:5: DataConversionWarning: A column-vector y was passed when a 1d array was expected. Please change the shape of y to (n_samples,), for example using ravel().\n",
      "  \"\"\"\n"
     ]
    },
    {
     "name": "stdout",
     "output_type": "stream",
     "text": [
      "accuracy= 86.59217877094973\n"
     ]
    }
   ],
   "source": [
    "# Creating alias for Classifier\n",
    "clf1 = RandomForestClassifier()\n",
    "\n",
    "# Fitting the model using training data\n",
    "clf1.fit(x_train, y_train)\n",
    "\n",
    "# Predicting on test data\n",
    "rfc_y_pred = clf1.predict(x_test)\n",
    "\n",
    "# Calculating Accuracy to compare all models\n",
    "rfc_accuracy = accuracy_score(y_test,rfc_y_pred) * 100\n",
    "print(\"accuracy=\",rfc_accuracy)"
   ]
  },
  {
   "cell_type": "markdown",
   "id": "4041940f",
   "metadata": {
    "papermill": {
     "duration": 0.063366,
     "end_time": "2022-01-20T19:34:05.624371",
     "exception": false,
     "start_time": "2022-01-20T19:34:05.561005",
     "status": "completed"
    },
    "tags": []
   },
   "source": [
    "<h3>2. K-Neighbor classifier </h3>"
   ]
  },
  {
   "cell_type": "code",
   "execution_count": 24,
   "id": "37afc2ea",
   "metadata": {
    "execution": {
     "iopub.execute_input": "2022-01-20T19:34:05.761542Z",
     "iopub.status.busy": "2022-01-20T19:34:05.760797Z",
     "iopub.status.idle": "2022-01-20T19:34:05.777129Z",
     "shell.execute_reply": "2022-01-20T19:34:05.777654Z",
     "shell.execute_reply.started": "2022-01-20T19:16:15.892230Z"
    },
    "papermill": {
     "duration": 0.090346,
     "end_time": "2022-01-20T19:34:05.777828",
     "exception": false,
     "start_time": "2022-01-20T19:34:05.687482",
     "status": "completed"
    },
    "tags": []
   },
   "outputs": [
    {
     "name": "stdout",
     "output_type": "stream",
     "text": [
      "accuracy= 67.0391061452514\n"
     ]
    },
    {
     "name": "stderr",
     "output_type": "stream",
     "text": [
      "/opt/conda/lib/python3.7/site-packages/ipykernel_launcher.py:2: DataConversionWarning: A column-vector y was passed when a 1d array was expected. Please change the shape of y to (n_samples, ), for example using ravel().\n",
      "  \n"
     ]
    }
   ],
   "source": [
    "clf2 = KNeighborsClassifier(5)\n",
    "clf2.fit(x_train, y_train)\n",
    "knc_y_pred = clf2.predict(x_test)\n",
    "knc_accuracy = accuracy_score(y_test,knc_y_pred)*100\n",
    "\n",
    "print(\"accuracy=\",knc_accuracy)"
   ]
  },
  {
   "cell_type": "markdown",
   "id": "73bface4",
   "metadata": {
    "papermill": {
     "duration": 0.062345,
     "end_time": "2022-01-20T19:34:05.903856",
     "exception": false,
     "start_time": "2022-01-20T19:34:05.841511",
     "status": "completed"
    },
    "tags": []
   },
   "source": [
    "<h3>3. Decision Tree Classifier </h3>"
   ]
  },
  {
   "cell_type": "code",
   "execution_count": 25,
   "id": "5c690437",
   "metadata": {
    "execution": {
     "iopub.execute_input": "2022-01-20T19:34:06.038814Z",
     "iopub.status.busy": "2022-01-20T19:34:06.033407Z",
     "iopub.status.idle": "2022-01-20T19:34:06.045894Z",
     "shell.execute_reply": "2022-01-20T19:34:06.046576Z",
     "shell.execute_reply.started": "2022-01-20T19:16:57.201791Z"
    },
    "papermill": {
     "duration": 0.079651,
     "end_time": "2022-01-20T19:34:06.046777",
     "exception": false,
     "start_time": "2022-01-20T19:34:05.967126",
     "status": "completed"
    },
    "tags": []
   },
   "outputs": [
    {
     "name": "stdout",
     "output_type": "stream",
     "text": [
      "accuracy= 78.2122905027933\n"
     ]
    }
   ],
   "source": [
    "clf3 = tree.DecisionTreeClassifier()\n",
    "clf3 = clf3.fit(x_train, y_train)\n",
    "dtc_y_pred = clf3.predict(x_test)\n",
    "dtc_accuracy = accuracy_score(y_test,dtc_y_pred)*100\n",
    "\n",
    "print(\"accuracy=\",dtc_accuracy)"
   ]
  },
  {
   "cell_type": "markdown",
   "id": "15a2d733",
   "metadata": {
    "papermill": {
     "duration": 0.062622,
     "end_time": "2022-01-20T19:34:06.172522",
     "exception": false,
     "start_time": "2022-01-20T19:34:06.109900",
     "status": "completed"
    },
    "tags": []
   },
   "source": [
    "<h3>4. Support Vector Machine </h3>"
   ]
  },
  {
   "cell_type": "code",
   "execution_count": 26,
   "id": "2f5c329d",
   "metadata": {
    "execution": {
     "iopub.execute_input": "2022-01-20T19:34:06.307796Z",
     "iopub.status.busy": "2022-01-20T19:34:06.306798Z",
     "iopub.status.idle": "2022-01-20T19:34:06.337166Z",
     "shell.execute_reply": "2022-01-20T19:34:06.338147Z",
     "shell.execute_reply.started": "2022-01-20T19:17:07.135752Z"
    },
    "papermill": {
     "duration": 0.098946,
     "end_time": "2022-01-20T19:34:06.338417",
     "exception": false,
     "start_time": "2022-01-20T19:34:06.239471",
     "status": "completed"
    },
    "tags": []
   },
   "outputs": [
    {
     "name": "stdout",
     "output_type": "stream",
     "text": [
      "accuracy= 72.06703910614524\n"
     ]
    },
    {
     "name": "stderr",
     "output_type": "stream",
     "text": [
      "/opt/conda/lib/python3.7/site-packages/sklearn/utils/validation.py:72: DataConversionWarning: A column-vector y was passed when a 1d array was expected. Please change the shape of y to (n_samples, ), for example using ravel().\n",
      "  return f(**kwargs)\n"
     ]
    }
   ],
   "source": [
    "clf4 = svm.SVC()\n",
    "clf4.fit(x_train, y_train)\n",
    "svm_y_pred = clf4.predict(x_test)\n",
    "svm_accuracy = accuracy_score(y_test,svm_y_pred)*100\n",
    "print(\"accuracy=\",svm_accuracy)"
   ]
  },
  {
   "cell_type": "markdown",
   "id": "d7e671f3",
   "metadata": {
    "papermill": {
     "duration": 0.067074,
     "end_time": "2022-01-20T19:34:06.472488",
     "exception": false,
     "start_time": "2022-01-20T19:34:06.405414",
     "status": "completed"
    },
    "tags": []
   },
   "source": [
    "<h3>5. Logistic Regression </h3>"
   ]
  },
  {
   "cell_type": "code",
   "execution_count": 27,
   "id": "90cf7978",
   "metadata": {
    "execution": {
     "iopub.execute_input": "2022-01-20T19:34:06.613656Z",
     "iopub.status.busy": "2022-01-20T19:34:06.612636Z",
     "iopub.status.idle": "2022-01-20T19:34:06.622185Z",
     "shell.execute_reply": "2022-01-20T19:34:06.622818Z",
     "shell.execute_reply.started": "2022-01-20T19:17:17.456014Z"
    },
    "papermill": {
     "duration": 0.085447,
     "end_time": "2022-01-20T19:34:06.623023",
     "exception": false,
     "start_time": "2022-01-20T19:34:06.537576",
     "status": "completed"
    },
    "tags": []
   },
   "outputs": [
    {
     "name": "stdout",
     "output_type": "stream",
     "text": [
      "accuracy= 83.79888268156425\n"
     ]
    },
    {
     "name": "stderr",
     "output_type": "stream",
     "text": [
      "/opt/conda/lib/python3.7/site-packages/sklearn/utils/validation.py:72: DataConversionWarning: A column-vector y was passed when a 1d array was expected. Please change the shape of y to (n_samples, ), for example using ravel().\n",
      "  return f(**kwargs)\n"
     ]
    }
   ],
   "source": [
    "clf5 = LogisticRegression(solver='liblinear')\n",
    "clf5.fit(x_train, y_train)\n",
    "lr_y_pred = clf5.predict(x_test)\n",
    "lr_accuracy = accuracy_score(y_test,lr_y_pred)*100\n",
    "\n",
    "print(\"accuracy=\",lr_accuracy)"
   ]
  },
  {
   "cell_type": "markdown",
   "id": "4e73baf4",
   "metadata": {
    "papermill": {
     "duration": 0.066227,
     "end_time": "2022-01-20T19:34:06.756213",
     "exception": false,
     "start_time": "2022-01-20T19:34:06.689986",
     "status": "completed"
    },
    "tags": []
   },
   "source": [
    "<h3> Accuracies of all Classifiers </h3>"
   ]
  },
  {
   "cell_type": "code",
   "execution_count": 28,
   "id": "c149ed7f",
   "metadata": {
    "execution": {
     "iopub.execute_input": "2022-01-20T19:34:06.895591Z",
     "iopub.status.busy": "2022-01-20T19:34:06.894867Z",
     "iopub.status.idle": "2022-01-20T19:34:06.902308Z",
     "shell.execute_reply": "2022-01-20T19:34:06.902827Z",
     "shell.execute_reply.started": "2022-01-20T19:18:39.814933Z"
    },
    "papermill": {
     "duration": 0.078643,
     "end_time": "2022-01-20T19:34:06.902998",
     "exception": false,
     "start_time": "2022-01-20T19:34:06.824355",
     "status": "completed"
    },
    "tags": []
   },
   "outputs": [
    {
     "name": "stdout",
     "output_type": "stream",
     "text": [
      "Accuracy of Random Forest Classifier = 86.59217877094973\n",
      "Accuracy of Logistic Regressor = 83.79888268156425\n",
      "Accuracy of K-Neighbor Classifier = 67.0391061452514\n",
      "Accuracy of Decision Tree Classifier =  78.2122905027933\n",
      "Accuracy of Support Vector Machine Classifier =  72.06703910614524\n"
     ]
    }
   ],
   "source": [
    "print(\"Accuracy of Random Forest Classifier =\",rfc_accuracy)\n",
    "print(\"Accuracy of Logistic Regressor =\",lr_accuracy)\n",
    "print(\"Accuracy of K-Neighbor Classifier =\",knc_accuracy)\n",
    "print(\"Accuracy of Decision Tree Classifier = \",dtc_accuracy)\n",
    "print(\"Accuracy of Support Vector Machine Classifier = \",svm_accuracy)"
   ]
  },
  {
   "cell_type": "markdown",
   "id": "aebc56dd",
   "metadata": {
    "papermill": {
     "duration": 0.066751,
     "end_time": "2022-01-20T19:34:07.038674",
     "exception": false,
     "start_time": "2022-01-20T19:34:06.971923",
     "status": "completed"
    },
    "tags": []
   },
   "source": [
    "<h3>Since maximum accuracy score is with Random Forest Classifier so we choose it for making predictions on test.csv.</h3>"
   ]
  },
  {
   "cell_type": "markdown",
   "id": "01189104",
   "metadata": {
    "papermill": {
     "duration": 0.064901,
     "end_time": "2022-01-20T19:34:07.169161",
     "exception": false,
     "start_time": "2022-01-20T19:34:07.104260",
     "status": "completed"
    },
    "tags": []
   },
   "source": [
    "<h1> Final Prediction with Machine Learning Model </h1>"
   ]
  },
  {
   "cell_type": "code",
   "execution_count": 29,
   "id": "1df1554a",
   "metadata": {
    "execution": {
     "iopub.execute_input": "2022-01-20T19:34:07.308122Z",
     "iopub.status.busy": "2022-01-20T19:34:07.307318Z",
     "iopub.status.idle": "2022-01-20T19:34:07.344977Z",
     "shell.execute_reply": "2022-01-20T19:34:07.345696Z",
     "shell.execute_reply.started": "2022-01-20T19:22:39.766686Z"
    },
    "papermill": {
     "duration": 0.109521,
     "end_time": "2022-01-20T19:34:07.345879",
     "exception": false,
     "start_time": "2022-01-20T19:34:07.236358",
     "status": "completed"
    },
    "tags": []
   },
   "outputs": [
    {
     "data": {
      "text/html": [
       "<div>\n",
       "<style scoped>\n",
       "    .dataframe tbody tr th:only-of-type {\n",
       "        vertical-align: middle;\n",
       "    }\n",
       "\n",
       "    .dataframe tbody tr th {\n",
       "        vertical-align: top;\n",
       "    }\n",
       "\n",
       "    .dataframe thead th {\n",
       "        text-align: right;\n",
       "    }\n",
       "</style>\n",
       "<table border=\"1\" class=\"dataframe\">\n",
       "  <thead>\n",
       "    <tr style=\"text-align: right;\">\n",
       "      <th></th>\n",
       "      <th>PassengerId</th>\n",
       "      <th>Pclass</th>\n",
       "      <th>Name</th>\n",
       "      <th>Sex</th>\n",
       "      <th>Age</th>\n",
       "      <th>SibSp</th>\n",
       "      <th>Parch</th>\n",
       "      <th>Ticket</th>\n",
       "      <th>Fare</th>\n",
       "      <th>Cabin</th>\n",
       "      <th>Embarked</th>\n",
       "    </tr>\n",
       "  </thead>\n",
       "  <tbody>\n",
       "    <tr>\n",
       "      <th>0</th>\n",
       "      <td>892</td>\n",
       "      <td>3</td>\n",
       "      <td>Kelly, Mr. James</td>\n",
       "      <td>male</td>\n",
       "      <td>34.5</td>\n",
       "      <td>0</td>\n",
       "      <td>0</td>\n",
       "      <td>330911</td>\n",
       "      <td>7.8292</td>\n",
       "      <td>NaN</td>\n",
       "      <td>Q</td>\n",
       "    </tr>\n",
       "    <tr>\n",
       "      <th>1</th>\n",
       "      <td>893</td>\n",
       "      <td>3</td>\n",
       "      <td>Wilkes, Mrs. James (Ellen Needs)</td>\n",
       "      <td>female</td>\n",
       "      <td>47.0</td>\n",
       "      <td>1</td>\n",
       "      <td>0</td>\n",
       "      <td>363272</td>\n",
       "      <td>7.0000</td>\n",
       "      <td>NaN</td>\n",
       "      <td>S</td>\n",
       "    </tr>\n",
       "    <tr>\n",
       "      <th>2</th>\n",
       "      <td>894</td>\n",
       "      <td>2</td>\n",
       "      <td>Myles, Mr. Thomas Francis</td>\n",
       "      <td>male</td>\n",
       "      <td>62.0</td>\n",
       "      <td>0</td>\n",
       "      <td>0</td>\n",
       "      <td>240276</td>\n",
       "      <td>9.6875</td>\n",
       "      <td>NaN</td>\n",
       "      <td>Q</td>\n",
       "    </tr>\n",
       "    <tr>\n",
       "      <th>3</th>\n",
       "      <td>895</td>\n",
       "      <td>3</td>\n",
       "      <td>Wirz, Mr. Albert</td>\n",
       "      <td>male</td>\n",
       "      <td>27.0</td>\n",
       "      <td>0</td>\n",
       "      <td>0</td>\n",
       "      <td>315154</td>\n",
       "      <td>8.6625</td>\n",
       "      <td>NaN</td>\n",
       "      <td>S</td>\n",
       "    </tr>\n",
       "    <tr>\n",
       "      <th>4</th>\n",
       "      <td>896</td>\n",
       "      <td>3</td>\n",
       "      <td>Hirvonen, Mrs. Alexander (Helga E Lindqvist)</td>\n",
       "      <td>female</td>\n",
       "      <td>22.0</td>\n",
       "      <td>1</td>\n",
       "      <td>1</td>\n",
       "      <td>3101298</td>\n",
       "      <td>12.2875</td>\n",
       "      <td>NaN</td>\n",
       "      <td>S</td>\n",
       "    </tr>\n",
       "    <tr>\n",
       "      <th>5</th>\n",
       "      <td>897</td>\n",
       "      <td>3</td>\n",
       "      <td>Svensson, Mr. Johan Cervin</td>\n",
       "      <td>male</td>\n",
       "      <td>14.0</td>\n",
       "      <td>0</td>\n",
       "      <td>0</td>\n",
       "      <td>7538</td>\n",
       "      <td>9.2250</td>\n",
       "      <td>NaN</td>\n",
       "      <td>S</td>\n",
       "    </tr>\n",
       "    <tr>\n",
       "      <th>6</th>\n",
       "      <td>898</td>\n",
       "      <td>3</td>\n",
       "      <td>Connolly, Miss. Kate</td>\n",
       "      <td>female</td>\n",
       "      <td>30.0</td>\n",
       "      <td>0</td>\n",
       "      <td>0</td>\n",
       "      <td>330972</td>\n",
       "      <td>7.6292</td>\n",
       "      <td>NaN</td>\n",
       "      <td>Q</td>\n",
       "    </tr>\n",
       "    <tr>\n",
       "      <th>7</th>\n",
       "      <td>899</td>\n",
       "      <td>2</td>\n",
       "      <td>Caldwell, Mr. Albert Francis</td>\n",
       "      <td>male</td>\n",
       "      <td>26.0</td>\n",
       "      <td>1</td>\n",
       "      <td>1</td>\n",
       "      <td>248738</td>\n",
       "      <td>29.0000</td>\n",
       "      <td>NaN</td>\n",
       "      <td>S</td>\n",
       "    </tr>\n",
       "    <tr>\n",
       "      <th>8</th>\n",
       "      <td>900</td>\n",
       "      <td>3</td>\n",
       "      <td>Abrahim, Mrs. Joseph (Sophie Halaut Easu)</td>\n",
       "      <td>female</td>\n",
       "      <td>18.0</td>\n",
       "      <td>0</td>\n",
       "      <td>0</td>\n",
       "      <td>2657</td>\n",
       "      <td>7.2292</td>\n",
       "      <td>NaN</td>\n",
       "      <td>C</td>\n",
       "    </tr>\n",
       "    <tr>\n",
       "      <th>9</th>\n",
       "      <td>901</td>\n",
       "      <td>3</td>\n",
       "      <td>Davies, Mr. John Samuel</td>\n",
       "      <td>male</td>\n",
       "      <td>21.0</td>\n",
       "      <td>2</td>\n",
       "      <td>0</td>\n",
       "      <td>A/4 48871</td>\n",
       "      <td>24.1500</td>\n",
       "      <td>NaN</td>\n",
       "      <td>S</td>\n",
       "    </tr>\n",
       "  </tbody>\n",
       "</table>\n",
       "</div>"
      ],
      "text/plain": [
       "   PassengerId  Pclass                                          Name     Sex  \\\n",
       "0          892       3                              Kelly, Mr. James    male   \n",
       "1          893       3              Wilkes, Mrs. James (Ellen Needs)  female   \n",
       "2          894       2                     Myles, Mr. Thomas Francis    male   \n",
       "3          895       3                              Wirz, Mr. Albert    male   \n",
       "4          896       3  Hirvonen, Mrs. Alexander (Helga E Lindqvist)  female   \n",
       "5          897       3                    Svensson, Mr. Johan Cervin    male   \n",
       "6          898       3                          Connolly, Miss. Kate  female   \n",
       "7          899       2                  Caldwell, Mr. Albert Francis    male   \n",
       "8          900       3     Abrahim, Mrs. Joseph (Sophie Halaut Easu)  female   \n",
       "9          901       3                       Davies, Mr. John Samuel    male   \n",
       "\n",
       "    Age  SibSp  Parch     Ticket     Fare Cabin Embarked  \n",
       "0  34.5      0      0     330911   7.8292   NaN        Q  \n",
       "1  47.0      1      0     363272   7.0000   NaN        S  \n",
       "2  62.0      0      0     240276   9.6875   NaN        Q  \n",
       "3  27.0      0      0     315154   8.6625   NaN        S  \n",
       "4  22.0      1      1    3101298  12.2875   NaN        S  \n",
       "5  14.0      0      0       7538   9.2250   NaN        S  \n",
       "6  30.0      0      0     330972   7.6292   NaN        Q  \n",
       "7  26.0      1      1     248738  29.0000   NaN        S  \n",
       "8  18.0      0      0       2657   7.2292   NaN        C  \n",
       "9  21.0      2      0  A/4 48871  24.1500   NaN        S  "
      ]
     },
     "execution_count": 29,
     "metadata": {},
     "output_type": "execute_result"
    }
   ],
   "source": [
    "test_data = pd.read_csv('/kaggle/input/titanic/test.csv')\n",
    "test_data.head(10)"
   ]
  },
  {
   "cell_type": "code",
   "execution_count": 30,
   "id": "367673d6",
   "metadata": {
    "execution": {
     "iopub.execute_input": "2022-01-20T19:34:07.482987Z",
     "iopub.status.busy": "2022-01-20T19:34:07.482210Z",
     "iopub.status.idle": "2022-01-20T19:34:07.494569Z",
     "shell.execute_reply": "2022-01-20T19:34:07.495367Z",
     "shell.execute_reply.started": "2022-01-20T19:22:44.355567Z"
    },
    "papermill": {
     "duration": 0.082787,
     "end_time": "2022-01-20T19:34:07.495727",
     "exception": false,
     "start_time": "2022-01-20T19:34:07.412940",
     "status": "completed"
    },
    "tags": []
   },
   "outputs": [
    {
     "name": "stdout",
     "output_type": "stream",
     "text": [
      "<class 'pandas.core.frame.DataFrame'>\n",
      "RangeIndex: 418 entries, 0 to 417\n",
      "Data columns (total 11 columns):\n",
      " #   Column       Non-Null Count  Dtype  \n",
      "---  ------       --------------  -----  \n",
      " 0   PassengerId  418 non-null    int64  \n",
      " 1   Pclass       418 non-null    int64  \n",
      " 2   Name         418 non-null    object \n",
      " 3   Sex          418 non-null    object \n",
      " 4   Age          332 non-null    float64\n",
      " 5   SibSp        418 non-null    int64  \n",
      " 6   Parch        418 non-null    int64  \n",
      " 7   Ticket       418 non-null    object \n",
      " 8   Fare         417 non-null    float64\n",
      " 9   Cabin        91 non-null     object \n",
      " 10  Embarked     418 non-null    object \n",
      "dtypes: float64(2), int64(4), object(5)\n",
      "memory usage: 36.0+ KB\n"
     ]
    }
   ],
   "source": [
    "test_data.info()"
   ]
  },
  {
   "cell_type": "code",
   "execution_count": 31,
   "id": "8ec3ab31",
   "metadata": {
    "execution": {
     "iopub.execute_input": "2022-01-20T19:34:07.635140Z",
     "iopub.status.busy": "2022-01-20T19:34:07.634443Z",
     "iopub.status.idle": "2022-01-20T19:34:07.642863Z",
     "shell.execute_reply": "2022-01-20T19:34:07.643397Z",
     "shell.execute_reply.started": "2022-01-20T19:22:49.431809Z"
    },
    "papermill": {
     "duration": 0.07923,
     "end_time": "2022-01-20T19:34:07.643578",
     "exception": false,
     "start_time": "2022-01-20T19:34:07.564348",
     "status": "completed"
    },
    "tags": []
   },
   "outputs": [
    {
     "data": {
      "text/plain": [
       "PassengerId      0\n",
       "Pclass           0\n",
       "Name             0\n",
       "Sex              0\n",
       "Age             86\n",
       "SibSp            0\n",
       "Parch            0\n",
       "Ticket           0\n",
       "Fare             1\n",
       "Cabin          327\n",
       "Embarked         0\n",
       "dtype: int64"
      ]
     },
     "execution_count": 31,
     "metadata": {},
     "output_type": "execute_result"
    }
   ],
   "source": [
    "test_data.isnull().sum()"
   ]
  },
  {
   "cell_type": "markdown",
   "id": "4a19645a",
   "metadata": {
    "papermill": {
     "duration": 0.067865,
     "end_time": "2022-01-20T19:34:07.779019",
     "exception": false,
     "start_time": "2022-01-20T19:34:07.711154",
     "status": "completed"
    },
    "tags": []
   },
   "source": [
    "<h2> Handling missing values / null values from the 'Age' Column and replacing them with random values within the range of the Average Age - Standard Age and Average Age + Standard Age </h2>"
   ]
  },
  {
   "cell_type": "code",
   "execution_count": 32,
   "id": "762f993a",
   "metadata": {
    "execution": {
     "iopub.execute_input": "2022-01-20T19:34:07.921680Z",
     "iopub.status.busy": "2022-01-20T19:34:07.920982Z",
     "iopub.status.idle": "2022-01-20T19:34:07.922818Z",
     "shell.execute_reply": "2022-01-20T19:34:07.923315Z",
     "shell.execute_reply.started": "2022-01-20T19:22:55.237664Z"
    },
    "papermill": {
     "duration": 0.07805,
     "end_time": "2022-01-20T19:34:07.923493",
     "exception": false,
     "start_time": "2022-01-20T19:34:07.845443",
     "status": "completed"
    },
    "tags": []
   },
   "outputs": [],
   "source": [
    "mean_age = test_data[\"Age\"].mean()\n",
    "std_age = test_data[\"Age\"].std()\n",
    "random_age = np.random.randint(mean_age-std_age, mean_age+std_age, size = 86)\n",
    "age_slice = test_data[\"Age\"].copy()\n",
    "age_slice[np.isnan(age_slice)] = random_age\n",
    "test_data[\"Age\"] = age_slice"
   ]
  },
  {
   "cell_type": "markdown",
   "id": "59db5126",
   "metadata": {
    "papermill": {
     "duration": 0.068229,
     "end_time": "2022-01-20T19:34:08.058260",
     "exception": false,
     "start_time": "2022-01-20T19:34:07.990031",
     "status": "completed"
    },
    "tags": []
   },
   "source": [
    "<h2> Replacing missing values/null values from the 'Fare' Column with Average Fare </h2>"
   ]
  },
  {
   "cell_type": "code",
   "execution_count": 33,
   "id": "30e4c2a4",
   "metadata": {
    "execution": {
     "iopub.execute_input": "2022-01-20T19:34:08.195489Z",
     "iopub.status.busy": "2022-01-20T19:34:08.194739Z",
     "iopub.status.idle": "2022-01-20T19:34:08.203598Z",
     "shell.execute_reply": "2022-01-20T19:34:08.204058Z",
     "shell.execute_reply.started": "2022-01-20T19:22:59.856534Z"
    },
    "papermill": {
     "duration": 0.078974,
     "end_time": "2022-01-20T19:34:08.204247",
     "exception": false,
     "start_time": "2022-01-20T19:34:08.125273",
     "status": "completed"
    },
    "tags": []
   },
   "outputs": [
    {
     "data": {
      "text/plain": [
       "PassengerId      0\n",
       "Pclass           0\n",
       "Name             0\n",
       "Sex              0\n",
       "Age              0\n",
       "SibSp            0\n",
       "Parch            0\n",
       "Ticket           0\n",
       "Fare             0\n",
       "Cabin          327\n",
       "Embarked         0\n",
       "dtype: int64"
      ]
     },
     "execution_count": 33,
     "metadata": {},
     "output_type": "execute_result"
    }
   ],
   "source": [
    "test_data['Fare'].fillna(test_data['Fare'].mean(), inplace=True)\n",
    "test_data.isnull().sum()"
   ]
  },
  {
   "cell_type": "markdown",
   "id": "77732fde",
   "metadata": {
    "papermill": {
     "duration": 0.06827,
     "end_time": "2022-01-20T19:34:08.340962",
     "exception": false,
     "start_time": "2022-01-20T19:34:08.272692",
     "status": "completed"
    },
    "tags": []
   },
   "source": [
    "<h2> Dropping Un-necessary Columns from the Dataset </h2>"
   ]
  },
  {
   "cell_type": "code",
   "execution_count": 34,
   "id": "bfb3e28a",
   "metadata": {
    "execution": {
     "iopub.execute_input": "2022-01-20T19:34:08.484095Z",
     "iopub.status.busy": "2022-01-20T19:34:08.483015Z",
     "iopub.status.idle": "2022-01-20T19:34:08.499119Z",
     "shell.execute_reply": "2022-01-20T19:34:08.499670Z",
     "shell.execute_reply.started": "2022-01-20T19:23:05.196660Z"
    },
    "papermill": {
     "duration": 0.090155,
     "end_time": "2022-01-20T19:34:08.499880",
     "exception": false,
     "start_time": "2022-01-20T19:34:08.409725",
     "status": "completed"
    },
    "tags": []
   },
   "outputs": [
    {
     "data": {
      "text/html": [
       "<div>\n",
       "<style scoped>\n",
       "    .dataframe tbody tr th:only-of-type {\n",
       "        vertical-align: middle;\n",
       "    }\n",
       "\n",
       "    .dataframe tbody tr th {\n",
       "        vertical-align: top;\n",
       "    }\n",
       "\n",
       "    .dataframe thead th {\n",
       "        text-align: right;\n",
       "    }\n",
       "</style>\n",
       "<table border=\"1\" class=\"dataframe\">\n",
       "  <thead>\n",
       "    <tr style=\"text-align: right;\">\n",
       "      <th></th>\n",
       "      <th>Pclass</th>\n",
       "      <th>Sex</th>\n",
       "      <th>Age</th>\n",
       "      <th>SibSp</th>\n",
       "      <th>Parch</th>\n",
       "      <th>Fare</th>\n",
       "      <th>Embarked</th>\n",
       "    </tr>\n",
       "  </thead>\n",
       "  <tbody>\n",
       "    <tr>\n",
       "      <th>0</th>\n",
       "      <td>3</td>\n",
       "      <td>male</td>\n",
       "      <td>34.5</td>\n",
       "      <td>0</td>\n",
       "      <td>0</td>\n",
       "      <td>7.8292</td>\n",
       "      <td>Q</td>\n",
       "    </tr>\n",
       "    <tr>\n",
       "      <th>1</th>\n",
       "      <td>3</td>\n",
       "      <td>female</td>\n",
       "      <td>47.0</td>\n",
       "      <td>1</td>\n",
       "      <td>0</td>\n",
       "      <td>7.0000</td>\n",
       "      <td>S</td>\n",
       "    </tr>\n",
       "    <tr>\n",
       "      <th>2</th>\n",
       "      <td>2</td>\n",
       "      <td>male</td>\n",
       "      <td>62.0</td>\n",
       "      <td>0</td>\n",
       "      <td>0</td>\n",
       "      <td>9.6875</td>\n",
       "      <td>Q</td>\n",
       "    </tr>\n",
       "    <tr>\n",
       "      <th>3</th>\n",
       "      <td>3</td>\n",
       "      <td>male</td>\n",
       "      <td>27.0</td>\n",
       "      <td>0</td>\n",
       "      <td>0</td>\n",
       "      <td>8.6625</td>\n",
       "      <td>S</td>\n",
       "    </tr>\n",
       "    <tr>\n",
       "      <th>4</th>\n",
       "      <td>3</td>\n",
       "      <td>female</td>\n",
       "      <td>22.0</td>\n",
       "      <td>1</td>\n",
       "      <td>1</td>\n",
       "      <td>12.2875</td>\n",
       "      <td>S</td>\n",
       "    </tr>\n",
       "    <tr>\n",
       "      <th>5</th>\n",
       "      <td>3</td>\n",
       "      <td>male</td>\n",
       "      <td>14.0</td>\n",
       "      <td>0</td>\n",
       "      <td>0</td>\n",
       "      <td>9.2250</td>\n",
       "      <td>S</td>\n",
       "    </tr>\n",
       "    <tr>\n",
       "      <th>6</th>\n",
       "      <td>3</td>\n",
       "      <td>female</td>\n",
       "      <td>30.0</td>\n",
       "      <td>0</td>\n",
       "      <td>0</td>\n",
       "      <td>7.6292</td>\n",
       "      <td>Q</td>\n",
       "    </tr>\n",
       "    <tr>\n",
       "      <th>7</th>\n",
       "      <td>2</td>\n",
       "      <td>male</td>\n",
       "      <td>26.0</td>\n",
       "      <td>1</td>\n",
       "      <td>1</td>\n",
       "      <td>29.0000</td>\n",
       "      <td>S</td>\n",
       "    </tr>\n",
       "    <tr>\n",
       "      <th>8</th>\n",
       "      <td>3</td>\n",
       "      <td>female</td>\n",
       "      <td>18.0</td>\n",
       "      <td>0</td>\n",
       "      <td>0</td>\n",
       "      <td>7.2292</td>\n",
       "      <td>C</td>\n",
       "    </tr>\n",
       "    <tr>\n",
       "      <th>9</th>\n",
       "      <td>3</td>\n",
       "      <td>male</td>\n",
       "      <td>21.0</td>\n",
       "      <td>2</td>\n",
       "      <td>0</td>\n",
       "      <td>24.1500</td>\n",
       "      <td>S</td>\n",
       "    </tr>\n",
       "  </tbody>\n",
       "</table>\n",
       "</div>"
      ],
      "text/plain": [
       "   Pclass     Sex   Age  SibSp  Parch     Fare Embarked\n",
       "0       3    male  34.5      0      0   7.8292        Q\n",
       "1       3  female  47.0      1      0   7.0000        S\n",
       "2       2    male  62.0      0      0   9.6875        Q\n",
       "3       3    male  27.0      0      0   8.6625        S\n",
       "4       3  female  22.0      1      1  12.2875        S\n",
       "5       3    male  14.0      0      0   9.2250        S\n",
       "6       3  female  30.0      0      0   7.6292        Q\n",
       "7       2    male  26.0      1      1  29.0000        S\n",
       "8       3  female  18.0      0      0   7.2292        C\n",
       "9       3    male  21.0      2      0  24.1500        S"
      ]
     },
     "execution_count": 34,
     "metadata": {},
     "output_type": "execute_result"
    }
   ],
   "source": [
    "list_column_to_drop = [\"PassengerId\", \"Ticket\", \"Cabin\", \"Name\"]\n",
    "test_data.drop(list_column_to_drop, axis=1, inplace=True)\n",
    "test_data.head(10)"
   ]
  },
  {
   "cell_type": "markdown",
   "id": "bdb3ed58",
   "metadata": {
    "papermill": {
     "duration": 0.069654,
     "end_time": "2022-01-20T19:34:08.640209",
     "exception": false,
     "start_time": "2022-01-20T19:34:08.570555",
     "status": "completed"
    },
    "tags": []
   },
   "source": [
    "<h2> Converting Categorical Variables (Sex, Embarked) to Numeric </h2>"
   ]
  },
  {
   "cell_type": "code",
   "execution_count": 35,
   "id": "9f7bc21c",
   "metadata": {
    "execution": {
     "iopub.execute_input": "2022-01-20T19:34:08.794761Z",
     "iopub.status.busy": "2022-01-20T19:34:08.793628Z",
     "iopub.status.idle": "2022-01-20T19:34:08.801729Z",
     "shell.execute_reply": "2022-01-20T19:34:08.802258Z",
     "shell.execute_reply.started": "2022-01-20T19:23:11.397328Z"
    },
    "papermill": {
     "duration": 0.093935,
     "end_time": "2022-01-20T19:34:08.802452",
     "exception": false,
     "start_time": "2022-01-20T19:34:08.708517",
     "status": "completed"
    },
    "tags": []
   },
   "outputs": [
    {
     "data": {
      "text/html": [
       "<div>\n",
       "<style scoped>\n",
       "    .dataframe tbody tr th:only-of-type {\n",
       "        vertical-align: middle;\n",
       "    }\n",
       "\n",
       "    .dataframe tbody tr th {\n",
       "        vertical-align: top;\n",
       "    }\n",
       "\n",
       "    .dataframe thead th {\n",
       "        text-align: right;\n",
       "    }\n",
       "</style>\n",
       "<table border=\"1\" class=\"dataframe\">\n",
       "  <thead>\n",
       "    <tr style=\"text-align: right;\">\n",
       "      <th></th>\n",
       "      <th>Pclass</th>\n",
       "      <th>Sex</th>\n",
       "      <th>Age</th>\n",
       "      <th>SibSp</th>\n",
       "      <th>Parch</th>\n",
       "      <th>Fare</th>\n",
       "      <th>Embarked</th>\n",
       "    </tr>\n",
       "  </thead>\n",
       "  <tbody>\n",
       "    <tr>\n",
       "      <th>0</th>\n",
       "      <td>3</td>\n",
       "      <td>0</td>\n",
       "      <td>34.5</td>\n",
       "      <td>0</td>\n",
       "      <td>0</td>\n",
       "      <td>7.8292</td>\n",
       "      <td>2</td>\n",
       "    </tr>\n",
       "    <tr>\n",
       "      <th>1</th>\n",
       "      <td>3</td>\n",
       "      <td>1</td>\n",
       "      <td>47.0</td>\n",
       "      <td>1</td>\n",
       "      <td>0</td>\n",
       "      <td>7.0000</td>\n",
       "      <td>0</td>\n",
       "    </tr>\n",
       "    <tr>\n",
       "      <th>2</th>\n",
       "      <td>2</td>\n",
       "      <td>0</td>\n",
       "      <td>62.0</td>\n",
       "      <td>0</td>\n",
       "      <td>0</td>\n",
       "      <td>9.6875</td>\n",
       "      <td>2</td>\n",
       "    </tr>\n",
       "    <tr>\n",
       "      <th>3</th>\n",
       "      <td>3</td>\n",
       "      <td>0</td>\n",
       "      <td>27.0</td>\n",
       "      <td>0</td>\n",
       "      <td>0</td>\n",
       "      <td>8.6625</td>\n",
       "      <td>0</td>\n",
       "    </tr>\n",
       "    <tr>\n",
       "      <th>4</th>\n",
       "      <td>3</td>\n",
       "      <td>1</td>\n",
       "      <td>22.0</td>\n",
       "      <td>1</td>\n",
       "      <td>1</td>\n",
       "      <td>12.2875</td>\n",
       "      <td>0</td>\n",
       "    </tr>\n",
       "  </tbody>\n",
       "</table>\n",
       "</div>"
      ],
      "text/plain": [
       "   Pclass  Sex   Age  SibSp  Parch     Fare  Embarked\n",
       "0       3    0  34.5      0      0   7.8292         2\n",
       "1       3    1  47.0      1      0   7.0000         0\n",
       "2       2    0  62.0      0      0   9.6875         2\n",
       "3       3    0  27.0      0      0   8.6625         0\n",
       "4       3    1  22.0      1      1  12.2875         0"
      ]
     },
     "execution_count": 35,
     "metadata": {},
     "output_type": "execute_result"
    }
   ],
   "source": [
    "genders = {\"male\":0, \"female\":1}\n",
    "test_data[\"Sex\"] = test_data[\"Sex\"].map(genders)\n",
    "\n",
    "ports = {\"S\":0, \"C\":1, \"Q\":2}\n",
    "test_data[\"Embarked\"] = test_data[\"Embarked\"].map(ports)\n",
    "\n",
    "test_data.head()"
   ]
  },
  {
   "cell_type": "code",
   "execution_count": 36,
   "id": "24c42d0f",
   "metadata": {
    "execution": {
     "iopub.execute_input": "2022-01-20T19:34:08.945751Z",
     "iopub.status.busy": "2022-01-20T19:34:08.945066Z",
     "iopub.status.idle": "2022-01-20T19:34:08.953228Z",
     "shell.execute_reply": "2022-01-20T19:34:08.953906Z",
     "shell.execute_reply.started": "2022-01-20T19:23:31.033340Z"
    },
    "papermill": {
     "duration": 0.081906,
     "end_time": "2022-01-20T19:34:08.954087",
     "exception": false,
     "start_time": "2022-01-20T19:34:08.872181",
     "status": "completed"
    },
    "tags": []
   },
   "outputs": [
    {
     "data": {
      "text/plain": [
       "Pclass      0\n",
       "Sex         0\n",
       "Age         0\n",
       "SibSp       0\n",
       "Parch       0\n",
       "Fare        0\n",
       "Embarked    0\n",
       "dtype: int64"
      ]
     },
     "execution_count": 36,
     "metadata": {},
     "output_type": "execute_result"
    }
   ],
   "source": [
    "test_data.isnull().sum()"
   ]
  },
  {
   "cell_type": "markdown",
   "id": "2be431d0",
   "metadata": {
    "papermill": {
     "duration": 0.068717,
     "end_time": "2022-01-20T19:34:09.094416",
     "exception": false,
     "start_time": "2022-01-20T19:34:09.025699",
     "status": "completed"
    },
    "tags": []
   },
   "source": [
    "<h1> Final Notebook Submission </h1>"
   ]
  },
  {
   "cell_type": "code",
   "execution_count": 37,
   "id": "dd1d8b50",
   "metadata": {
    "execution": {
     "iopub.execute_input": "2022-01-20T19:34:09.240068Z",
     "iopub.status.busy": "2022-01-20T19:34:09.239397Z",
     "iopub.status.idle": "2022-01-20T19:34:09.280447Z",
     "shell.execute_reply": "2022-01-20T19:34:09.281204Z",
     "shell.execute_reply.started": "2022-01-20T19:23:40.792946Z"
    },
    "papermill": {
     "duration": 0.115488,
     "end_time": "2022-01-20T19:34:09.281419",
     "exception": false,
     "start_time": "2022-01-20T19:34:09.165931",
     "status": "completed"
    },
    "tags": []
   },
   "outputs": [
    {
     "data": {
      "text/html": [
       "<div>\n",
       "<style scoped>\n",
       "    .dataframe tbody tr th:only-of-type {\n",
       "        vertical-align: middle;\n",
       "    }\n",
       "\n",
       "    .dataframe tbody tr th {\n",
       "        vertical-align: top;\n",
       "    }\n",
       "\n",
       "    .dataframe thead th {\n",
       "        text-align: right;\n",
       "    }\n",
       "</style>\n",
       "<table border=\"1\" class=\"dataframe\">\n",
       "  <thead>\n",
       "    <tr style=\"text-align: right;\">\n",
       "      <th></th>\n",
       "      <th>PassengerId</th>\n",
       "      <th>Survived</th>\n",
       "    </tr>\n",
       "  </thead>\n",
       "  <tbody>\n",
       "    <tr>\n",
       "      <th>0</th>\n",
       "      <td>892</td>\n",
       "      <td>0</td>\n",
       "    </tr>\n",
       "    <tr>\n",
       "      <th>1</th>\n",
       "      <td>893</td>\n",
       "      <td>0</td>\n",
       "    </tr>\n",
       "    <tr>\n",
       "      <th>2</th>\n",
       "      <td>894</td>\n",
       "      <td>0</td>\n",
       "    </tr>\n",
       "    <tr>\n",
       "      <th>3</th>\n",
       "      <td>895</td>\n",
       "      <td>1</td>\n",
       "    </tr>\n",
       "    <tr>\n",
       "      <th>4</th>\n",
       "      <td>896</td>\n",
       "      <td>0</td>\n",
       "    </tr>\n",
       "    <tr>\n",
       "      <th>5</th>\n",
       "      <td>897</td>\n",
       "      <td>0</td>\n",
       "    </tr>\n",
       "    <tr>\n",
       "      <th>6</th>\n",
       "      <td>898</td>\n",
       "      <td>0</td>\n",
       "    </tr>\n",
       "    <tr>\n",
       "      <th>7</th>\n",
       "      <td>899</td>\n",
       "      <td>0</td>\n",
       "    </tr>\n",
       "    <tr>\n",
       "      <th>8</th>\n",
       "      <td>900</td>\n",
       "      <td>1</td>\n",
       "    </tr>\n",
       "    <tr>\n",
       "      <th>9</th>\n",
       "      <td>901</td>\n",
       "      <td>0</td>\n",
       "    </tr>\n",
       "    <tr>\n",
       "      <th>10</th>\n",
       "      <td>902</td>\n",
       "      <td>0</td>\n",
       "    </tr>\n",
       "    <tr>\n",
       "      <th>11</th>\n",
       "      <td>903</td>\n",
       "      <td>0</td>\n",
       "    </tr>\n",
       "    <tr>\n",
       "      <th>12</th>\n",
       "      <td>904</td>\n",
       "      <td>1</td>\n",
       "    </tr>\n",
       "    <tr>\n",
       "      <th>13</th>\n",
       "      <td>905</td>\n",
       "      <td>0</td>\n",
       "    </tr>\n",
       "    <tr>\n",
       "      <th>14</th>\n",
       "      <td>906</td>\n",
       "      <td>1</td>\n",
       "    </tr>\n",
       "    <tr>\n",
       "      <th>15</th>\n",
       "      <td>907</td>\n",
       "      <td>1</td>\n",
       "    </tr>\n",
       "    <tr>\n",
       "      <th>16</th>\n",
       "      <td>908</td>\n",
       "      <td>0</td>\n",
       "    </tr>\n",
       "    <tr>\n",
       "      <th>17</th>\n",
       "      <td>909</td>\n",
       "      <td>0</td>\n",
       "    </tr>\n",
       "    <tr>\n",
       "      <th>18</th>\n",
       "      <td>910</td>\n",
       "      <td>0</td>\n",
       "    </tr>\n",
       "    <tr>\n",
       "      <th>19</th>\n",
       "      <td>911</td>\n",
       "      <td>1</td>\n",
       "    </tr>\n",
       "  </tbody>\n",
       "</table>\n",
       "</div>"
      ],
      "text/plain": [
       "    PassengerId  Survived\n",
       "0           892         0\n",
       "1           893         0\n",
       "2           894         0\n",
       "3           895         1\n",
       "4           896         0\n",
       "5           897         0\n",
       "6           898         0\n",
       "7           899         0\n",
       "8           900         1\n",
       "9           901         0\n",
       "10          902         0\n",
       "11          903         0\n",
       "12          904         1\n",
       "13          905         0\n",
       "14          906         1\n",
       "15          907         1\n",
       "16          908         0\n",
       "17          909         0\n",
       "18          910         0\n",
       "19          911         1"
      ]
     },
     "execution_count": 37,
     "metadata": {},
     "output_type": "execute_result"
    }
   ],
   "source": [
    "x_test = test_data\n",
    "y_pred = clf1.predict(x_test)\n",
    "originaltest_data = pd.read_csv('/kaggle/input/titanic/test.csv')\n",
    "submission = pd.DataFrame({\n",
    "        \"PassengerId\": originaltest_data[\"PassengerId\"],\n",
    "        \"Survived\": y_pred\n",
    "    })\n",
    "submission.head(20)"
   ]
  },
  {
   "cell_type": "code",
   "execution_count": 38,
   "id": "e8837d85",
   "metadata": {
    "execution": {
     "iopub.execute_input": "2022-01-20T19:34:09.425982Z",
     "iopub.status.busy": "2022-01-20T19:34:09.425235Z",
     "iopub.status.idle": "2022-01-20T19:34:09.432616Z",
     "shell.execute_reply": "2022-01-20T19:34:09.433123Z",
     "shell.execute_reply.started": "2022-01-20T19:28:00.437513Z"
    },
    "papermill": {
     "duration": 0.080045,
     "end_time": "2022-01-20T19:34:09.433315",
     "exception": false,
     "start_time": "2022-01-20T19:34:09.353270",
     "status": "completed"
    },
    "tags": []
   },
   "outputs": [],
   "source": [
    "submission.to_csv('submission.csv',index=False)"
   ]
  },
  {
   "cell_type": "code",
   "execution_count": 39,
   "id": "5c1a4b20",
   "metadata": {
    "execution": {
     "iopub.execute_input": "2022-01-20T19:34:09.577108Z",
     "iopub.status.busy": "2022-01-20T19:34:09.576421Z",
     "iopub.status.idle": "2022-01-20T19:34:09.587039Z",
     "shell.execute_reply": "2022-01-20T19:34:09.587909Z",
     "shell.execute_reply.started": "2022-01-20T19:28:49.225846Z"
    },
    "papermill": {
     "duration": 0.085042,
     "end_time": "2022-01-20T19:34:09.588181",
     "exception": false,
     "start_time": "2022-01-20T19:34:09.503139",
     "status": "completed"
    },
    "tags": []
   },
   "outputs": [
    {
     "name": "stdout",
     "output_type": "stream",
     "text": [
      "<class 'pandas.core.frame.DataFrame'>\n",
      "RangeIndex: 418 entries, 0 to 417\n",
      "Data columns (total 2 columns):\n",
      " #   Column       Non-Null Count  Dtype\n",
      "---  ------       --------------  -----\n",
      " 0   PassengerId  418 non-null    int64\n",
      " 1   Survived     418 non-null    int64\n",
      "dtypes: int64(2)\n",
      "memory usage: 6.7 KB\n"
     ]
    }
   ],
   "source": [
    "submission.info()"
   ]
  },
  {
   "cell_type": "code",
   "execution_count": null,
   "id": "e8eea518",
   "metadata": {
    "papermill": {
     "duration": 0.07087,
     "end_time": "2022-01-20T19:34:09.730636",
     "exception": false,
     "start_time": "2022-01-20T19:34:09.659766",
     "status": "completed"
    },
    "tags": []
   },
   "outputs": [],
   "source": []
  }
 ],
 "metadata": {
  "kernelspec": {
   "display_name": "Python 3",
   "language": "python",
   "name": "python3"
  },
  "language_info": {
   "codemirror_mode": {
    "name": "ipython",
    "version": 3
   },
   "file_extension": ".py",
   "mimetype": "text/x-python",
   "name": "python",
   "nbconvert_exporter": "python",
   "pygments_lexer": "ipython3",
   "version": "3.7.12"
  },
  "papermill": {
   "default_parameters": {},
   "duration": 27.830727,
   "end_time": "2022-01-20T19:34:10.611827",
   "environment_variables": {},
   "exception": null,
   "input_path": "__notebook__.ipynb",
   "output_path": "__notebook__.ipynb",
   "parameters": {},
   "start_time": "2022-01-20T19:33:42.781100",
   "version": "2.3.3"
  }
 },
 "nbformat": 4,
 "nbformat_minor": 5
}
